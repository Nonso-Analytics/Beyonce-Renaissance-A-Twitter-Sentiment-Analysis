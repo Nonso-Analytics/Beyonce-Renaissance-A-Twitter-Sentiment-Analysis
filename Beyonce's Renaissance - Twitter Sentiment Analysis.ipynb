{
 "cells": [
  {
   "cell_type": "markdown",
   "id": "8eb73c97",
   "metadata": {},
   "source": [
    "# Beyonce's  Rennaissance Album : A Twitter Sentimental Analysis Project\n",
    "\n",
    "### by Chinonso OKONKWO"
   ]
  },
  {
   "cell_type": "markdown",
   "id": "47bdf661",
   "metadata": {},
   "source": [
    "## 1. Introduction"
   ]
  },
  {
   "cell_type": "markdown",
   "id": "2095c10c",
   "metadata": {},
   "source": [
    "This is a Data Analytics Project which focuses on Renaissance Twitter data using Natural Language Processing (NLP) Techniques.\n",
    "Beyonce's Renaissance Album was released on July 29th, 2022. The album dominated the twitter trends and spaces across different locations. For a Period of 10 days, I decided to gather tweets that had the word \"Renaissance\" or \"Rennaissance\" in them using Tweepy Library and Twitter's API. I gathered over 140K tweets.\n",
    "This project uses Several Python Libraries such as:\n",
    "<br>\n",
    " - Pandas (for Data Cleaning/Manipulation)\n",
    " - Tweepy (for Tweets Gathering)\n",
    " - NLTK (Natural Language Toolkit)\n",
    " - TextBlob (for Sentiment Analysis)\n",
    " - MatPlotlib & WordCloud (for Data Visualization)\n",
    " - Emot (for Emojis identification)"
   ]
  },
  {
   "cell_type": "markdown",
   "id": "26df46f9",
   "metadata": {},
   "source": [
    "## Table of Contents"
   ]
  },
  {
   "cell_type": "markdown",
   "id": "9f68c0bb",
   "metadata": {},
   "source": [
    "1. [Introduction](#1.-Introduction)\n",
    "<br>\n",
    "\n",
    "2. [Data Gathering](#2.-Data-Gathering)\n",
    "<br>\n",
    "\n",
    "3. [Data Assessment](#3.-Data-Assessment)\n",
    "<br>\n",
    "\n",
    "4. [Data Cleaning](#4.-Data-Cleaning)\n",
    "<br>\n",
    "5. [Data Preprocessing](#5.-Data-Preprocessing)\n",
    "<br>\n",
    "6. [Sentiment Analysis](#6.-Sentiment-Analysis)\n",
    "<br>\n",
    "\n",
    "7. [Explanatory Analysis/ Data Visualization](#7.-Explanatory-Analysis/-Data-Visualization)\n",
    "<br>\n",
    "\n",
    "8. [Additional Comments](#8.-Additional-Comments)"
   ]
  },
  {
   "cell_type": "markdown",
   "id": "2f51775b",
   "metadata": {},
   "source": [
    "## 2. Data Gathering"
   ]
  },
  {
   "cell_type": "markdown",
   "id": "ee3bbfa6",
   "metadata": {},
   "source": [
    "In this section, I plan on querying twitter for data, making use of an API and Tweepy Library, I'll gather the data in batches, due to Twitters request limitataions.<br>\n",
    "I'll store gathered data into individual csv files. Then later append it as a single dataframe.\n",
    "<br>\n",
    "I intend to gather data within 24th July and 2nd August(10days)"
   ]
  },
  {
   "cell_type": "markdown",
   "id": "25dd7a7d",
   "metadata": {},
   "source": [
    "**Importing Libraries**"
   ]
  },
  {
   "cell_type": "markdown",
   "id": "12adfa4a",
   "metadata": {},
   "source": [
    "Importing all libraries I'll be needing. I'll add more as I go along if required."
   ]
  },
  {
   "cell_type": "code",
   "execution_count": 1,
   "id": "bfecf11a",
   "metadata": {},
   "outputs": [
    {
     "data": {
      "text/html": [
       "<pre>✔️ 46 ms (2022-08-11T23:06:10/2022-08-11T23:06:10)</pre>"
      ],
      "text/plain": [
       "<IPython.core.display.HTML object>"
      ]
     },
     "metadata": {},
     "output_type": "display_data"
    }
   ],
   "source": [
    "# importing autotime to check how long it takes each code to run\n",
    "import autotime\n",
    "%load_ext autotime"
   ]
  },
  {
   "cell_type": "code",
   "execution_count": 2,
   "id": "4a393031",
   "metadata": {},
   "outputs": [
    {
     "data": {
      "text/html": [
       "<pre>✔️ 1 min 4 s (2022-08-11T23:06:10/2022-08-11T23:07:15)</pre>"
      ],
      "text/plain": [
       "<IPython.core.display.HTML object>"
      ]
     },
     "metadata": {},
     "output_type": "display_data"
    }
   ],
   "source": [
    "import numpy as np\n",
    "import pandas as pd\n",
    "import tweepy\n",
    "import matplotlib.pyplot as plt\n",
    "%matplotlib inline\n",
    "import seaborn as sb\n",
    "import re\n",
    "\n",
    "\n",
    "from nltk.corpus import stopwords # to get stopwords from NLTK library\n",
    "from nltk.tokenize import word_tokenize # to create word tokens\n",
    "from nltk.stem import WordNetLemmatizer # to reduce words to orginal form\n",
    "from nltk.corpus import words # Get all words in english language\n",
    "\n",
    "\n",
    "import textblob\n",
    "from textblob import TextBlob\n",
    "\n",
    "\n",
    "from wordcloud import WordCloud\n",
    "from emot.emo_unicode import UNICODE_EMOJI # For emojis\n",
    "\n",
    "import warnings\n"
   ]
  },
  {
   "cell_type": "code",
   "execution_count": null,
   "id": "b8fc0e29",
   "metadata": {},
   "outputs": [],
   "source": [
    "# Access keys and tokens from Twitter Developer Account\n",
    "# These are hidden to comply with Twitter's API terms and conditions\n",
    "# You'll need to get a Twitter developer Account to get your own keys to use for this part.\n",
    "consumer_key = '..........................'  \n",
    "consumer_secret = '............................'\n",
    "access_key = '...........-........................'\n",
    "access_secret = '...........................'"
   ]
  },
  {
   "cell_type": "code",
   "execution_count": null,
   "id": "91f53341",
   "metadata": {},
   "outputs": [],
   "source": [
    "auth = tweepy.OAuthHandler(consumer_key, consumer_secret) #Pass in Consumer key and secret for authentication by API\n",
    "auth.set_access_token (access_key, access_secret) # Pass in Access key and secret for authentication by API\n",
    "api = tweepy.API(auth, wait_on_rate_limit = True) #sleeps when API limit is reached"
   ]
  },
  {
   "cell_type": "code",
   "execution_count": null,
   "id": "80194164",
   "metadata": {},
   "outputs": [],
   "source": [
    "#create keywords to search for , filter links, retweets, replies\n",
    "search_words = \"#Renaissance OR #Rennaissance\"\n",
    "search_query = search_words + \"-filter:retweets AND -filter:replies\""
   ]
  },
  {
   "cell_type": "code",
   "execution_count": null,
   "id": "2155c431",
   "metadata": {},
   "outputs": [],
   "source": [
    "# specifying limit of 1,000,000 tweets\n",
    "# I prefer to gather tweets in batches then append, due to twitter's tweet request limitation\n",
    "limit=1000000\n",
    "\n",
    "# using tweepy to search for tweets with the key words in English \n",
    "tweets = tweepy.Cursor(api.search_tweets, q=search_query, count=100, lang=\"en\", tweet_mode='extended').items(limit)\n",
    "\n",
    "# specifying column headers of each tweet attribute\n",
    "columns=['id', 'username', 'time_of_tweet', 'tweet', 'location', 'retweets', 'likes', 'followers', 'following', 'verified',\n",
    "         'tweet_source']"
   ]
  },
  {
   "cell_type": "code",
   "execution_count": null,
   "id": "aff214ba",
   "metadata": {},
   "outputs": [],
   "source": [
    "# appending each tweet attribute to the list data\n",
    "data= []\n",
    "for tweet in tweets:\n",
    "    data.append([tweet.id, tweet.user.screen_name, tweet.created_at, tweet.full_text, tweet.user.location, tweet.retweet_count, tweet.favorite_count, tweet.user.followers_count, tweet.user.friends_count, tweet.user.verified, tweet.source])"
   ]
  },
  {
   "cell_type": "code",
   "execution_count": null,
   "id": "da8a957c",
   "metadata": {},
   "outputs": [],
   "source": [
    "# creating a dataframe\n",
    "df = pd.DataFrame(data, columns=columns)\n",
    "\n",
    "# cheking the number of rows and columns\n",
    "df.shape"
   ]
  },
  {
   "cell_type": "code",
   "execution_count": null,
   "id": "9a4f15a0",
   "metadata": {},
   "outputs": [],
   "source": [
    "df.head() "
   ]
  },
  {
   "cell_type": "code",
   "execution_count": null,
   "id": "14ddee6f",
   "metadata": {},
   "outputs": [],
   "source": [
    "df.tail()"
   ]
  },
  {
   "cell_type": "code",
   "execution_count": null,
   "id": "cd5d5751",
   "metadata": {},
   "outputs": [],
   "source": [
    "# saving dataframe to a csv file\n",
    "df.to_csv('Renaissance29July-01August(05_01_07am_to_22_04_49pm).csv')"
   ]
  },
  {
   "cell_type": "markdown",
   "id": "389b1f64",
   "metadata": {},
   "source": [
    "**Next;**"
   ]
  },
  {
   "cell_type": "markdown",
   "id": "5a822928",
   "metadata": {},
   "source": [
    "I'll use the last tweet id in df.tail() as the max_id number and repeat the process. Specifying a maximum id lets the Twitter API collect tweets before that Id, Since, I need to pull older tweets."
   ]
  },
  {
   "cell_type": "code",
   "execution_count": null,
   "id": "49047e05",
   "metadata": {},
   "outputs": [],
   "source": [
    "limit = 500000\n",
    "\n",
    "# using tweepy to search for tweets with the key words in English \n",
    "tweets = tweepy.Cursor(api.search_tweets, q=search_query, max_id=1552881884836859905, count=100, lang=\"en\", \n",
    "                       tweet_mode='extended').items(limit)\n",
    "\n",
    "# specifying column headers of each tweet attribute\n",
    "columns=['id', 'username', 'time_of_tweet', 'tweet', 'location', 'retweets', 'likes', 'followers', 'following', \n",
    "         'verified', 'tweet_source']"
   ]
  },
  {
   "cell_type": "code",
   "execution_count": null,
   "id": "267fea3b",
   "metadata": {},
   "outputs": [],
   "source": [
    "# appending each tweet attribute to the list data\n",
    "data= []\n",
    "for tweet in tweets:\n",
    "    data.append([tweet.id, tweet.user.screen_name, tweet.created_at, tweet.full_text, tweet.user.location, tweet.retweet_count, tweet.favorite_count, tweet.user.followers_count, tweet.user.friends_count, tweet.user.verified, tweet.source])"
   ]
  },
  {
   "cell_type": "code",
   "execution_count": null,
   "id": "8cfccf5c",
   "metadata": {},
   "outputs": [],
   "source": [
    "# creating a dataframe\n",
    "df = pd.DataFrame(data, columns=columns)\n",
    "\n",
    "# cheking the number of rows and columns\n",
    "df.shape"
   ]
  },
  {
   "cell_type": "code",
   "execution_count": null,
   "id": "7ae654df",
   "metadata": {},
   "outputs": [],
   "source": [
    "df.head()"
   ]
  },
  {
   "cell_type": "code",
   "execution_count": null,
   "id": "48a985d5",
   "metadata": {},
   "outputs": [],
   "source": [
    "df.tail()"
   ]
  },
  {
   "cell_type": "code",
   "execution_count": null,
   "id": "2fd34c4b",
   "metadata": {},
   "outputs": [],
   "source": [
    "# saving dataframe to a csv file\n",
    "df.to_csv('Renaissance23July-29July(02_50_07am_to_05_01_07am).csv')"
   ]
  },
  {
   "cell_type": "markdown",
   "id": "3b1c59bd",
   "metadata": {},
   "source": [
    "**Next;**"
   ]
  },
  {
   "cell_type": "markdown",
   "id": "01b3ae17",
   "metadata": {},
   "source": [
    "I'll Gather data using since_id to get new tweets.\n",
    "I'll gather up to 2nd August"
   ]
  },
  {
   "cell_type": "code",
   "execution_count": null,
   "id": "058ea896",
   "metadata": {},
   "outputs": [],
   "source": [
    "limit = 500000\n",
    "\n",
    "# using tweepy to search for tweets with the key words in English \n",
    "tweets = tweepy.Cursor(api.search_tweets, q=search_query, since_id=1554226674056806405, count=100, lang=\"en\", tweet_mode='extended').items(limit)\n",
    "\n",
    "# specifying column headers of each tweet attribute\n",
    "columns=['id', 'username', 'time_of_tweet', 'tweet', 'location', 'retweets', 'likes', 'followers', 'following', 'verified', 'tweet_source']"
   ]
  },
  {
   "cell_type": "code",
   "execution_count": null,
   "id": "a5f918ed",
   "metadata": {},
   "outputs": [],
   "source": [
    "# appending each tweet attribute to the list data\n",
    "data= []\n",
    "for tweet in tweets:\n",
    "    data.append([tweet.id, tweet.user.screen_name, tweet.created_at, tweet.full_text, tweet.user.location, tweet.retweet_count, tweet.favorite_count, tweet.user.followers_count, tweet.user.friends_count, tweet.user.verified, tweet.source])"
   ]
  },
  {
   "cell_type": "code",
   "execution_count": null,
   "id": "be954de4",
   "metadata": {},
   "outputs": [],
   "source": [
    "# creating a dataframe\n",
    "df = pd.DataFrame(data, columns=columns)\n",
    "df.shape"
   ]
  },
  {
   "cell_type": "code",
   "execution_count": null,
   "id": "7acc4edb",
   "metadata": {},
   "outputs": [],
   "source": [
    "df.head()"
   ]
  },
  {
   "cell_type": "code",
   "execution_count": null,
   "id": "0ebecaf1",
   "metadata": {},
   "outputs": [],
   "source": [
    "df.tail()"
   ]
  },
  {
   "cell_type": "code",
   "execution_count": null,
   "id": "6471ecd5",
   "metadata": {},
   "outputs": [],
   "source": [
    "# saving dataframe to a csv file\n",
    "df.to_csv('Renaissance1August-3August(22_05_07pm_to_00_07_12pm).csv')"
   ]
  },
  {
   "cell_type": "markdown",
   "id": "48ca12ae",
   "metadata": {},
   "source": [
    "## Read in files using read_csv"
   ]
  },
  {
   "cell_type": "code",
   "execution_count": 3,
   "id": "6dfcebc6",
   "metadata": {},
   "outputs": [
    {
     "data": {
      "text/html": [
       "<pre>✔️ 6.25 s (2022-08-11T23:07:15/2022-08-11T23:07:21)</pre>"
      ],
      "text/plain": [
       "<IPython.core.display.HTML object>"
      ]
     },
     "metadata": {},
     "output_type": "display_data"
    }
   ],
   "source": [
    "# Reading in the files using pandas read_csv\n",
    "df1 = pd.read_csv('Renaissance23July-29July(02_50_07am_to_05_01_07am).csv')\n",
    "df2 = pd.read_csv('Renaissance29July-01August(05_01_07am_to_22_04_49pm).csv')\n",
    "df3 = pd.read_csv('Renaissance1August-3August(22_05_07pm_to_00_07_12pm).csv')"
   ]
  },
  {
   "cell_type": "code",
   "execution_count": 4,
   "id": "111b3058",
   "metadata": {},
   "outputs": [
    {
     "data": {
      "text/html": [
       "<pre>✔️ 797 ms (2022-08-11T23:07:22/2022-08-11T23:07:22)</pre>"
      ],
      "text/plain": [
       "<IPython.core.display.HTML object>"
      ]
     },
     "metadata": {},
     "output_type": "display_data"
    }
   ],
   "source": [
    "# merge the two dataframes as one\n",
    "tweet_df = pd.concat([df1, df2, df3], ignore_index=True)"
   ]
  },
  {
   "cell_type": "markdown",
   "id": "3c1fed7a",
   "metadata": {},
   "source": [
    "## 3. Data Assessment"
   ]
  },
  {
   "cell_type": "markdown",
   "id": "e0d725e7",
   "metadata": {},
   "source": [
    "Data was assessed here for data quality issues such as missing data, incorrect datatypes, duplicates e.t.c. and Data Tidiness issues. <br>\n",
    "While assessing for duplicates, tweet id is considered as the Primary key/ Unique identifier for all the dataframe"
   ]
  },
  {
   "cell_type": "markdown",
   "id": "c51ab8ea",
   "metadata": {},
   "source": [
    "**Column Descriptions**\n",
    "- id - Unique id for each tweet\n",
    "- username - The twitter username of the tweeter\n",
    "- time_of_tweet - The time the tweet was tweeted\n",
    "- tweet - The content of the tweet\n",
    "- location - Location of Tweeter\n",
    "- retweets - The number of times the tweet has been retweeted\n",
    "- likes - The number of times the tweet has been liked\n",
    "- followers - The number of followers of the Tweeter\n",
    "- following - The number of followings of the Tweeter\n",
    "- verified - Whether the Tweeter is verified or not? True/False\n",
    "- tweet_source - The Source of Tweet"
   ]
  },
  {
   "cell_type": "code",
   "execution_count": 5,
   "id": "03097f5d",
   "metadata": {},
   "outputs": [
    {
     "data": {
      "text/html": [
       "<pre>✔️ 31 ms (2022-08-11T23:07:22/2022-08-11T23:07:22)</pre>"
      ],
      "text/plain": [
       "<IPython.core.display.HTML object>"
      ]
     },
     "metadata": {},
     "output_type": "display_data"
    },
    {
     "data": {
      "text/plain": [
       "(147836, 12)"
      ]
     },
     "execution_count": 5,
     "metadata": {},
     "output_type": "execute_result"
    }
   ],
   "source": [
    "# Checking the number of rows and columns\n",
    "tweet_df.shape"
   ]
  },
  {
   "cell_type": "markdown",
   "id": "724f6454",
   "metadata": {},
   "source": [
    "The dataframe contains 147,836 rows of data and 12  columns."
   ]
  },
  {
   "cell_type": "code",
   "execution_count": 6,
   "id": "61b1e4f6",
   "metadata": {},
   "outputs": [
    {
     "data": {
      "text/html": [
       "<pre>✔️ 329 ms (2022-08-11T23:07:23/2022-08-11T23:07:23)</pre>"
      ],
      "text/plain": [
       "<IPython.core.display.HTML object>"
      ]
     },
     "metadata": {},
     "output_type": "display_data"
    },
    {
     "data": {
      "text/html": [
       "<div>\n",
       "<style scoped>\n",
       "    .dataframe tbody tr th:only-of-type {\n",
       "        vertical-align: middle;\n",
       "    }\n",
       "\n",
       "    .dataframe tbody tr th {\n",
       "        vertical-align: top;\n",
       "    }\n",
       "\n",
       "    .dataframe thead th {\n",
       "        text-align: right;\n",
       "    }\n",
       "</style>\n",
       "<table border=\"1\" class=\"dataframe\">\n",
       "  <thead>\n",
       "    <tr style=\"text-align: right;\">\n",
       "      <th></th>\n",
       "      <th>Unnamed: 0</th>\n",
       "      <th>id</th>\n",
       "      <th>username</th>\n",
       "      <th>time_of_tweet</th>\n",
       "      <th>tweet</th>\n",
       "      <th>location</th>\n",
       "      <th>retweets</th>\n",
       "      <th>likes</th>\n",
       "      <th>followers</th>\n",
       "      <th>following</th>\n",
       "      <th>verified</th>\n",
       "      <th>tweet_source</th>\n",
       "    </tr>\n",
       "  </thead>\n",
       "  <tbody>\n",
       "    <tr>\n",
       "      <th>0</th>\n",
       "      <td>0</td>\n",
       "      <td>1552881884836859905</td>\n",
       "      <td>_Chrisss7</td>\n",
       "      <td>2022-07-29 05:01:07+00:00</td>\n",
       "      <td>Cozy is so cunt 😭🔥 #RENAISSANCE</td>\n",
       "      <td>904</td>\n",
       "      <td>0</td>\n",
       "      <td>0</td>\n",
       "      <td>396</td>\n",
       "      <td>391</td>\n",
       "      <td>False</td>\n",
       "      <td>Twitter for iPhone</td>\n",
       "    </tr>\n",
       "    <tr>\n",
       "      <th>1</th>\n",
       "      <td>1</td>\n",
       "      <td>1552881884782370817</td>\n",
       "      <td>anseldeangelo</td>\n",
       "      <td>2022-07-29 05:01:07+00:00</td>\n",
       "      <td>Listening to #RENAISSANCE high was one of the ...</td>\n",
       "      <td>Florida, USA</td>\n",
       "      <td>0</td>\n",
       "      <td>0</td>\n",
       "      <td>3101</td>\n",
       "      <td>728</td>\n",
       "      <td>False</td>\n",
       "      <td>Twitter for iPhone</td>\n",
       "    </tr>\n",
       "    <tr>\n",
       "      <th>2</th>\n",
       "      <td>2</td>\n",
       "      <td>1552881883389861889</td>\n",
       "      <td>juhdayyy</td>\n",
       "      <td>2022-07-29 05:01:06+00:00</td>\n",
       "      <td>i got 50-11 captions ready to go 🤭 #RENAISSANCE</td>\n",
       "      <td>757</td>\n",
       "      <td>0</td>\n",
       "      <td>0</td>\n",
       "      <td>639</td>\n",
       "      <td>584</td>\n",
       "      <td>False</td>\n",
       "      <td>Twitter for iPhone</td>\n",
       "    </tr>\n",
       "    <tr>\n",
       "      <th>3</th>\n",
       "      <td>3</td>\n",
       "      <td>1552881883217895424</td>\n",
       "      <td>sir_marcell</td>\n",
       "      <td>2022-07-29 05:01:06+00:00</td>\n",
       "      <td>Calling all singers!!!! The scales at the end ...</td>\n",
       "      <td>Atlanta, GA</td>\n",
       "      <td>0</td>\n",
       "      <td>1</td>\n",
       "      <td>773</td>\n",
       "      <td>460</td>\n",
       "      <td>False</td>\n",
       "      <td>Twitter for iPhone</td>\n",
       "    </tr>\n",
       "    <tr>\n",
       "      <th>4</th>\n",
       "      <td>4</td>\n",
       "      <td>1552881883205099520</td>\n",
       "      <td>JadedTyson</td>\n",
       "      <td>2022-07-29 05:01:06+00:00</td>\n",
       "      <td>PURE/HONEY unlocked the inner voguer that resi...</td>\n",
       "      <td>LA   He/They</td>\n",
       "      <td>0</td>\n",
       "      <td>2</td>\n",
       "      <td>252</td>\n",
       "      <td>232</td>\n",
       "      <td>False</td>\n",
       "      <td>Twitter for iPhone</td>\n",
       "    </tr>\n",
       "  </tbody>\n",
       "</table>\n",
       "</div>"
      ],
      "text/plain": [
       "   Unnamed: 0                   id       username              time_of_tweet  \\\n",
       "0           0  1552881884836859905      _Chrisss7  2022-07-29 05:01:07+00:00   \n",
       "1           1  1552881884782370817  anseldeangelo  2022-07-29 05:01:07+00:00   \n",
       "2           2  1552881883389861889       juhdayyy  2022-07-29 05:01:06+00:00   \n",
       "3           3  1552881883217895424    sir_marcell  2022-07-29 05:01:06+00:00   \n",
       "4           4  1552881883205099520     JadedTyson  2022-07-29 05:01:06+00:00   \n",
       "\n",
       "                                               tweet      location  retweets  \\\n",
       "0                    Cozy is so cunt 😭🔥 #RENAISSANCE           904         0   \n",
       "1  Listening to #RENAISSANCE high was one of the ...  Florida, USA         0   \n",
       "2    i got 50-11 captions ready to go 🤭 #RENAISSANCE          757          0   \n",
       "3  Calling all singers!!!! The scales at the end ...   Atlanta, GA         0   \n",
       "4  PURE/HONEY unlocked the inner voguer that resi...  LA   He/They         0   \n",
       "\n",
       "   likes  followers  following  verified        tweet_source  \n",
       "0      0        396        391     False  Twitter for iPhone  \n",
       "1      0       3101        728     False  Twitter for iPhone  \n",
       "2      0        639        584     False  Twitter for iPhone  \n",
       "3      1        773        460     False  Twitter for iPhone  \n",
       "4      2        252        232     False  Twitter for iPhone  "
      ]
     },
     "execution_count": 6,
     "metadata": {},
     "output_type": "execute_result"
    }
   ],
   "source": [
    "# Checking the first five rows of dataframe\n",
    "tweet_df.head()"
   ]
  },
  {
   "cell_type": "code",
   "execution_count": 7,
   "id": "bb8e306b",
   "metadata": {},
   "outputs": [
    {
     "data": {
      "text/html": [
       "<pre>✔️ 47 ms (2022-08-11T23:07:23/2022-08-11T23:07:23)</pre>"
      ],
      "text/plain": [
       "<IPython.core.display.HTML object>"
      ]
     },
     "metadata": {},
     "output_type": "display_data"
    },
    {
     "data": {
      "text/html": [
       "<div>\n",
       "<style scoped>\n",
       "    .dataframe tbody tr th:only-of-type {\n",
       "        vertical-align: middle;\n",
       "    }\n",
       "\n",
       "    .dataframe tbody tr th {\n",
       "        vertical-align: top;\n",
       "    }\n",
       "\n",
       "    .dataframe thead th {\n",
       "        text-align: right;\n",
       "    }\n",
       "</style>\n",
       "<table border=\"1\" class=\"dataframe\">\n",
       "  <thead>\n",
       "    <tr style=\"text-align: right;\">\n",
       "      <th></th>\n",
       "      <th>Unnamed: 0</th>\n",
       "      <th>id</th>\n",
       "      <th>username</th>\n",
       "      <th>time_of_tweet</th>\n",
       "      <th>tweet</th>\n",
       "      <th>location</th>\n",
       "      <th>retweets</th>\n",
       "      <th>likes</th>\n",
       "      <th>followers</th>\n",
       "      <th>following</th>\n",
       "      <th>verified</th>\n",
       "      <th>tweet_source</th>\n",
       "    </tr>\n",
       "  </thead>\n",
       "  <tbody>\n",
       "    <tr>\n",
       "      <th>147831</th>\n",
       "      <td>5776</td>\n",
       "      <td>1554227010020392960</td>\n",
       "      <td>jqkcl</td>\n",
       "      <td>2022-08-01 22:06:09+00:00</td>\n",
       "      <td>My top artist in July on @TIDAL was @Beyonce. ...</td>\n",
       "      <td>yay area + ucsd</td>\n",
       "      <td>0</td>\n",
       "      <td>1</td>\n",
       "      <td>574</td>\n",
       "      <td>249</td>\n",
       "      <td>False</td>\n",
       "      <td>Twitter for iPhone</td>\n",
       "    </tr>\n",
       "    <tr>\n",
       "      <th>147832</th>\n",
       "      <td>5777</td>\n",
       "      <td>1554226956526313473</td>\n",
       "      <td>cicidreamfish</td>\n",
       "      <td>2022-08-01 22:05:57+00:00</td>\n",
       "      <td>“Head on a pillow, hike it in the air…”\\nAlien...</td>\n",
       "      <td>Kingston, Ontario</td>\n",
       "      <td>0</td>\n",
       "      <td>1</td>\n",
       "      <td>260</td>\n",
       "      <td>153</td>\n",
       "      <td>False</td>\n",
       "      <td>Twitter for iPhone</td>\n",
       "    </tr>\n",
       "    <tr>\n",
       "      <th>147833</th>\n",
       "      <td>5778</td>\n",
       "      <td>1554226862133579776</td>\n",
       "      <td>iamjordanlive</td>\n",
       "      <td>2022-08-01 22:05:34+00:00</td>\n",
       "      <td>No transition hit better!!🙌🏾🔥\\n#RENAISSANCE ht...</td>\n",
       "      <td>Atlanta, GA</td>\n",
       "      <td>0</td>\n",
       "      <td>0</td>\n",
       "      <td>570</td>\n",
       "      <td>1541</td>\n",
       "      <td>False</td>\n",
       "      <td>Twitter for iPhone</td>\n",
       "    </tr>\n",
       "    <tr>\n",
       "      <th>147834</th>\n",
       "      <td>5779</td>\n",
       "      <td>1554226760081764352</td>\n",
       "      <td>rolecallpod</td>\n",
       "      <td>2022-08-01 22:05:10+00:00</td>\n",
       "      <td>I should’ve/could’ve used Car Wash but… #Beyon...</td>\n",
       "      <td>Bay Area</td>\n",
       "      <td>2</td>\n",
       "      <td>5</td>\n",
       "      <td>541</td>\n",
       "      <td>302</td>\n",
       "      <td>False</td>\n",
       "      <td>Twitter for iPhone</td>\n",
       "    </tr>\n",
       "    <tr>\n",
       "      <th>147835</th>\n",
       "      <td>5780</td>\n",
       "      <td>1554226749642260482</td>\n",
       "      <td>S4NTINY_</td>\n",
       "      <td>2022-08-01 22:05:07+00:00</td>\n",
       "      <td>#RENAISSANCE  ON BUCLE 🥵</td>\n",
       "      <td>Lima - Perú</td>\n",
       "      <td>0</td>\n",
       "      <td>0</td>\n",
       "      <td>2037</td>\n",
       "      <td>106</td>\n",
       "      <td>False</td>\n",
       "      <td>Twitter for iPhone</td>\n",
       "    </tr>\n",
       "  </tbody>\n",
       "</table>\n",
       "</div>"
      ],
      "text/plain": [
       "        Unnamed: 0                   id       username  \\\n",
       "147831        5776  1554227010020392960          jqkcl   \n",
       "147832        5777  1554226956526313473  cicidreamfish   \n",
       "147833        5778  1554226862133579776  iamjordanlive   \n",
       "147834        5779  1554226760081764352    rolecallpod   \n",
       "147835        5780  1554226749642260482       S4NTINY_   \n",
       "\n",
       "                    time_of_tweet  \\\n",
       "147831  2022-08-01 22:06:09+00:00   \n",
       "147832  2022-08-01 22:05:57+00:00   \n",
       "147833  2022-08-01 22:05:34+00:00   \n",
       "147834  2022-08-01 22:05:10+00:00   \n",
       "147835  2022-08-01 22:05:07+00:00   \n",
       "\n",
       "                                                    tweet           location  \\\n",
       "147831  My top artist in July on @TIDAL was @Beyonce. ...    yay area + ucsd   \n",
       "147832  “Head on a pillow, hike it in the air…”\\nAlien...  Kingston, Ontario   \n",
       "147833  No transition hit better!!🙌🏾🔥\\n#RENAISSANCE ht...        Atlanta, GA   \n",
       "147834  I should’ve/could’ve used Car Wash but… #Beyon...           Bay Area   \n",
       "147835                           #RENAISSANCE  ON BUCLE 🥵        Lima - Perú   \n",
       "\n",
       "        retweets  likes  followers  following  verified        tweet_source  \n",
       "147831         0      1        574        249     False  Twitter for iPhone  \n",
       "147832         0      1        260        153     False  Twitter for iPhone  \n",
       "147833         0      0        570       1541     False  Twitter for iPhone  \n",
       "147834         2      5        541        302     False  Twitter for iPhone  \n",
       "147835         0      0       2037        106     False  Twitter for iPhone  "
      ]
     },
     "execution_count": 7,
     "metadata": {},
     "output_type": "execute_result"
    }
   ],
   "source": [
    "# Checking the last five rows of dataframe\n",
    "tweet_df.tail()"
   ]
  },
  {
   "cell_type": "code",
   "execution_count": 8,
   "id": "b46da249",
   "metadata": {},
   "outputs": [
    {
     "data": {
      "text/html": [
       "<pre>✔️ 203 ms (2022-08-11T23:07:23/2022-08-11T23:07:24)</pre>"
      ],
      "text/plain": [
       "<IPython.core.display.HTML object>"
      ]
     },
     "metadata": {},
     "output_type": "display_data"
    },
    {
     "data": {
      "text/html": [
       "<div>\n",
       "<style scoped>\n",
       "    .dataframe tbody tr th:only-of-type {\n",
       "        vertical-align: middle;\n",
       "    }\n",
       "\n",
       "    .dataframe tbody tr th {\n",
       "        vertical-align: top;\n",
       "    }\n",
       "\n",
       "    .dataframe thead th {\n",
       "        text-align: right;\n",
       "    }\n",
       "</style>\n",
       "<table border=\"1\" class=\"dataframe\">\n",
       "  <thead>\n",
       "    <tr style=\"text-align: right;\">\n",
       "      <th></th>\n",
       "      <th>Unnamed: 0</th>\n",
       "      <th>id</th>\n",
       "      <th>username</th>\n",
       "      <th>time_of_tweet</th>\n",
       "      <th>tweet</th>\n",
       "      <th>location</th>\n",
       "      <th>retweets</th>\n",
       "      <th>likes</th>\n",
       "      <th>followers</th>\n",
       "      <th>following</th>\n",
       "      <th>verified</th>\n",
       "      <th>tweet_source</th>\n",
       "    </tr>\n",
       "  </thead>\n",
       "  <tbody>\n",
       "    <tr>\n",
       "      <th>73981</th>\n",
       "      <td>9220</td>\n",
       "      <td>1553673988378972160</td>\n",
       "      <td>Tauruspapi2</td>\n",
       "      <td>2022-07-31 09:28:39+00:00</td>\n",
       "      <td>That Beyoncé song move does something to me 🕺🏽...</td>\n",
       "      <td>New York, USA</td>\n",
       "      <td>0</td>\n",
       "      <td>1</td>\n",
       "      <td>340</td>\n",
       "      <td>1772</td>\n",
       "      <td>False</td>\n",
       "      <td>Twitter for iPhone</td>\n",
       "    </tr>\n",
       "    <tr>\n",
       "      <th>2578</th>\n",
       "      <td>2578</td>\n",
       "      <td>1552880409670713346</td>\n",
       "      <td>NaomiRaekwon</td>\n",
       "      <td>2022-07-29 04:55:15+00:00</td>\n",
       "      <td>Ms. Honey! 🐝 #RENAISSANCE</td>\n",
       "      <td>GWoodMS -- MemphisTN</td>\n",
       "      <td>0</td>\n",
       "      <td>0</td>\n",
       "      <td>1892</td>\n",
       "      <td>2462</td>\n",
       "      <td>False</td>\n",
       "      <td>Twitter for iPhone</td>\n",
       "    </tr>\n",
       "    <tr>\n",
       "      <th>119048</th>\n",
       "      <td>54287</td>\n",
       "      <td>1552959510548996096</td>\n",
       "      <td>HRFMichael</td>\n",
       "      <td>2022-07-29 10:09:34+00:00</td>\n",
       "      <td>God it's good #RENAISSANCE</td>\n",
       "      <td>Glasgow, Scotland</td>\n",
       "      <td>0</td>\n",
       "      <td>1</td>\n",
       "      <td>3224</td>\n",
       "      <td>2057</td>\n",
       "      <td>False</td>\n",
       "      <td>Twitter Web App</td>\n",
       "    </tr>\n",
       "    <tr>\n",
       "      <th>120667</th>\n",
       "      <td>55906</td>\n",
       "      <td>1552945189819383808</td>\n",
       "      <td>oldkustom</td>\n",
       "      <td>2022-07-29 09:12:40+00:00</td>\n",
       "      <td>$14.0 Only ~ NOS Yamaha 26H-12427-00 GASKET HS...</td>\n",
       "      <td>United States</td>\n",
       "      <td>0</td>\n",
       "      <td>0</td>\n",
       "      <td>160</td>\n",
       "      <td>1</td>\n",
       "      <td>False</td>\n",
       "      <td>Zapier.com</td>\n",
       "    </tr>\n",
       "    <tr>\n",
       "      <th>107798</th>\n",
       "      <td>43037</td>\n",
       "      <td>1553021039890034688</td>\n",
       "      <td>KeIVBey</td>\n",
       "      <td>2022-07-29 14:14:04+00:00</td>\n",
       "      <td>Twinkie Clark when she wakes up and hears what...</td>\n",
       "      <td>Platform 9 3/4</td>\n",
       "      <td>0</td>\n",
       "      <td>2</td>\n",
       "      <td>986</td>\n",
       "      <td>585</td>\n",
       "      <td>False</td>\n",
       "      <td>Twitter for iPhone</td>\n",
       "    </tr>\n",
       "  </tbody>\n",
       "</table>\n",
       "</div>"
      ],
      "text/plain": [
       "        Unnamed: 0                   id      username  \\\n",
       "73981         9220  1553673988378972160   Tauruspapi2   \n",
       "2578          2578  1552880409670713346  NaomiRaekwon   \n",
       "119048       54287  1552959510548996096    HRFMichael   \n",
       "120667       55906  1552945189819383808     oldkustom   \n",
       "107798       43037  1553021039890034688       KeIVBey   \n",
       "\n",
       "                    time_of_tweet  \\\n",
       "73981   2022-07-31 09:28:39+00:00   \n",
       "2578    2022-07-29 04:55:15+00:00   \n",
       "119048  2022-07-29 10:09:34+00:00   \n",
       "120667  2022-07-29 09:12:40+00:00   \n",
       "107798  2022-07-29 14:14:04+00:00   \n",
       "\n",
       "                                                    tweet  \\\n",
       "73981   That Beyoncé song move does something to me 🕺🏽...   \n",
       "2578                            Ms. Honey! 🐝 #RENAISSANCE   \n",
       "119048                         God it's good #RENAISSANCE   \n",
       "120667  $14.0 Only ~ NOS Yamaha 26H-12427-00 GASKET HS...   \n",
       "107798  Twinkie Clark when she wakes up and hears what...   \n",
       "\n",
       "                    location  retweets  likes  followers  following  verified  \\\n",
       "73981          New York, USA         0      1        340       1772     False   \n",
       "2578    GWoodMS -- MemphisTN         0      0       1892       2462     False   \n",
       "119048     Glasgow, Scotland         0      1       3224       2057     False   \n",
       "120667         United States         0      0        160          1     False   \n",
       "107798        Platform 9 3/4         0      2        986        585     False   \n",
       "\n",
       "              tweet_source  \n",
       "73981   Twitter for iPhone  \n",
       "2578    Twitter for iPhone  \n",
       "119048     Twitter Web App  \n",
       "120667          Zapier.com  \n",
       "107798  Twitter for iPhone  "
      ]
     },
     "execution_count": 8,
     "metadata": {},
     "output_type": "execute_result"
    }
   ],
   "source": [
    "# Checking random 5 rows of data\n",
    "tweet_df.sample(5)"
   ]
  },
  {
   "cell_type": "code",
   "execution_count": 9,
   "id": "c3c9d139",
   "metadata": {},
   "outputs": [
    {
     "data": {
      "text/html": [
       "<pre>✔️ 266 ms (2022-08-11T23:07:24/2022-08-11T23:07:24)</pre>"
      ],
      "text/plain": [
       "<IPython.core.display.HTML object>"
      ]
     },
     "metadata": {},
     "output_type": "display_data"
    },
    {
     "name": "stdout",
     "output_type": "stream",
     "text": [
      "<class 'pandas.core.frame.DataFrame'>\n",
      "RangeIndex: 147836 entries, 0 to 147835\n",
      "Data columns (total 12 columns):\n",
      " #   Column         Non-Null Count   Dtype \n",
      "---  ------         --------------   ----- \n",
      " 0   Unnamed: 0     147836 non-null  int64 \n",
      " 1   id             147836 non-null  int64 \n",
      " 2   username       147836 non-null  object\n",
      " 3   time_of_tweet  147836 non-null  object\n",
      " 4   tweet          147836 non-null  object\n",
      " 5   location       109470 non-null  object\n",
      " 6   retweets       147836 non-null  int64 \n",
      " 7   likes          147836 non-null  int64 \n",
      " 8   followers      147836 non-null  int64 \n",
      " 9   following      147836 non-null  int64 \n",
      " 10  verified       147836 non-null  bool  \n",
      " 11  tweet_source   147836 non-null  object\n",
      "dtypes: bool(1), int64(6), object(5)\n",
      "memory usage: 12.5+ MB\n"
     ]
    }
   ],
   "source": [
    "# Getting a concise summary of data\n",
    "tweet_df.info()"
   ]
  },
  {
   "cell_type": "code",
   "execution_count": 10,
   "id": "14421134",
   "metadata": {},
   "outputs": [
    {
     "data": {
      "text/html": [
       "<pre>✔️ 156 ms (2022-08-11T23:07:24/2022-08-11T23:07:24)</pre>"
      ],
      "text/plain": [
       "<IPython.core.display.HTML object>"
      ]
     },
     "metadata": {},
     "output_type": "display_data"
    },
    {
     "data": {
      "text/plain": [
       "1"
      ]
     },
     "execution_count": 10,
     "metadata": {},
     "output_type": "execute_result"
    }
   ],
   "source": [
    "# Checking for duplicates\n",
    "tweet_df.duplicated(subset='id').sum()"
   ]
  },
  {
   "cell_type": "markdown",
   "id": "aea0152b",
   "metadata": {},
   "source": [
    "There is a duplicate entry in the dataframe"
   ]
  },
  {
   "cell_type": "code",
   "execution_count": 11,
   "id": "4bd8f339",
   "metadata": {},
   "outputs": [
    {
     "data": {
      "text/html": [
       "<pre>✔️ 4.28 s (2022-08-11T23:07:24/2022-08-11T23:07:29)</pre>"
      ],
      "text/plain": [
       "<IPython.core.display.HTML object>"
      ]
     },
     "metadata": {},
     "output_type": "display_data"
    },
    {
     "data": {
      "text/html": [
       "<div>\n",
       "<style scoped>\n",
       "    .dataframe tbody tr th:only-of-type {\n",
       "        vertical-align: middle;\n",
       "    }\n",
       "\n",
       "    .dataframe tbody tr th {\n",
       "        vertical-align: top;\n",
       "    }\n",
       "\n",
       "    .dataframe thead th {\n",
       "        text-align: right;\n",
       "    }\n",
       "</style>\n",
       "<table border=\"1\" class=\"dataframe\">\n",
       "  <thead>\n",
       "    <tr style=\"text-align: right;\">\n",
       "      <th></th>\n",
       "      <th>Unnamed: 0</th>\n",
       "      <th>id</th>\n",
       "      <th>username</th>\n",
       "      <th>time_of_tweet</th>\n",
       "      <th>tweet</th>\n",
       "      <th>location</th>\n",
       "      <th>retweets</th>\n",
       "      <th>likes</th>\n",
       "      <th>followers</th>\n",
       "      <th>following</th>\n",
       "      <th>verified</th>\n",
       "      <th>tweet_source</th>\n",
       "    </tr>\n",
       "  </thead>\n",
       "  <tbody>\n",
       "    <tr>\n",
       "      <th>0</th>\n",
       "      <td>0</td>\n",
       "      <td>1552881884836859905</td>\n",
       "      <td>_Chrisss7</td>\n",
       "      <td>2022-07-29 05:01:07+00:00</td>\n",
       "      <td>Cozy is so cunt 😭🔥 #RENAISSANCE</td>\n",
       "      <td>904</td>\n",
       "      <td>0</td>\n",
       "      <td>0</td>\n",
       "      <td>396</td>\n",
       "      <td>391</td>\n",
       "      <td>False</td>\n",
       "      <td>Twitter for iPhone</td>\n",
       "    </tr>\n",
       "    <tr>\n",
       "      <th>142054</th>\n",
       "      <td>77293</td>\n",
       "      <td>1552881884836859905</td>\n",
       "      <td>_Chrisss7</td>\n",
       "      <td>2022-07-29 05:01:07+00:00</td>\n",
       "      <td>Cozy is so cunt 😭🔥 #RENAISSANCE</td>\n",
       "      <td>904</td>\n",
       "      <td>0</td>\n",
       "      <td>0</td>\n",
       "      <td>396</td>\n",
       "      <td>391</td>\n",
       "      <td>False</td>\n",
       "      <td>Twitter for iPhone</td>\n",
       "    </tr>\n",
       "  </tbody>\n",
       "</table>\n",
       "</div>"
      ],
      "text/plain": [
       "        Unnamed: 0                   id   username              time_of_tweet  \\\n",
       "0                0  1552881884836859905  _Chrisss7  2022-07-29 05:01:07+00:00   \n",
       "142054       77293  1552881884836859905  _Chrisss7  2022-07-29 05:01:07+00:00   \n",
       "\n",
       "                                  tweet location  retweets  likes  followers  \\\n",
       "0       Cozy is so cunt 😭🔥 #RENAISSANCE      904         0      0        396   \n",
       "142054  Cozy is so cunt 😭🔥 #RENAISSANCE      904         0      0        396   \n",
       "\n",
       "        following  verified        tweet_source  \n",
       "0             391     False  Twitter for iPhone  \n",
       "142054        391     False  Twitter for iPhone  "
      ]
     },
     "execution_count": 11,
     "metadata": {},
     "output_type": "execute_result"
    }
   ],
   "source": [
    "# Viewing duplicates\n",
    "pd.concat(g for _, g in tweet_df.groupby(\"id\") if len(g) > 1)"
   ]
  },
  {
   "cell_type": "code",
   "execution_count": 12,
   "id": "79f4dfef",
   "metadata": {},
   "outputs": [
    {
     "data": {
      "text/html": [
       "<pre>✔️ 156 ms (2022-08-11T23:07:29/2022-08-11T23:07:29)</pre>"
      ],
      "text/plain": [
       "<IPython.core.display.HTML object>"
      ]
     },
     "metadata": {},
     "output_type": "display_data"
    },
    {
     "data": {
      "text/plain": [
       "Unnamed: 0           0\n",
       "id                   0\n",
       "username             0\n",
       "time_of_tweet        0\n",
       "tweet                0\n",
       "location         38366\n",
       "retweets             0\n",
       "likes                0\n",
       "followers            0\n",
       "following            0\n",
       "verified             0\n",
       "tweet_source         0\n",
       "dtype: int64"
      ]
     },
     "execution_count": 12,
     "metadata": {},
     "output_type": "execute_result"
    }
   ],
   "source": [
    "# Checking for missing data or null\n",
    "tweet_df.isnull().sum()"
   ]
  },
  {
   "cell_type": "code",
   "execution_count": 13,
   "id": "cf3d10ae",
   "metadata": {},
   "outputs": [
    {
     "data": {
      "text/html": [
       "<pre>✔️ 797 ms (2022-08-11T23:07:29/2022-08-11T23:07:30)</pre>"
      ],
      "text/plain": [
       "<IPython.core.display.HTML object>"
      ]
     },
     "metadata": {},
     "output_type": "display_data"
    },
    {
     "data": {
      "text/html": [
       "<div>\n",
       "<style scoped>\n",
       "    .dataframe tbody tr th:only-of-type {\n",
       "        vertical-align: middle;\n",
       "    }\n",
       "\n",
       "    .dataframe tbody tr th {\n",
       "        vertical-align: top;\n",
       "    }\n",
       "\n",
       "    .dataframe thead th {\n",
       "        text-align: right;\n",
       "    }\n",
       "</style>\n",
       "<table border=\"1\" class=\"dataframe\">\n",
       "  <thead>\n",
       "    <tr style=\"text-align: right;\">\n",
       "      <th></th>\n",
       "      <th>Unnamed: 0</th>\n",
       "      <th>id</th>\n",
       "      <th>retweets</th>\n",
       "      <th>likes</th>\n",
       "      <th>followers</th>\n",
       "      <th>following</th>\n",
       "    </tr>\n",
       "  </thead>\n",
       "  <tbody>\n",
       "    <tr>\n",
       "      <th>count</th>\n",
       "      <td>147836.000000</td>\n",
       "      <td>1.478360e+05</td>\n",
       "      <td>147836.000000</td>\n",
       "      <td>147836.000000</td>\n",
       "      <td>1.478360e+05</td>\n",
       "      <td>147836.000000</td>\n",
       "    </tr>\n",
       "    <tr>\n",
       "      <th>mean</th>\n",
       "      <td>34503.171359</td>\n",
       "      <td>1.553045e+18</td>\n",
       "      <td>4.381193</td>\n",
       "      <td>27.628271</td>\n",
       "      <td>1.216340e+04</td>\n",
       "      <td>1035.612821</td>\n",
       "    </tr>\n",
       "    <tr>\n",
       "      <th>std</th>\n",
       "      <td>21530.100008</td>\n",
       "      <td>4.586215e+14</td>\n",
       "      <td>88.264029</td>\n",
       "      <td>542.998659</td>\n",
       "      <td>3.190928e+05</td>\n",
       "      <td>4003.497084</td>\n",
       "    </tr>\n",
       "    <tr>\n",
       "      <th>min</th>\n",
       "      <td>0.000000</td>\n",
       "      <td>1.550675e+18</td>\n",
       "      <td>0.000000</td>\n",
       "      <td>0.000000</td>\n",
       "      <td>0.000000e+00</td>\n",
       "      <td>0.000000</td>\n",
       "    </tr>\n",
       "    <tr>\n",
       "      <th>25%</th>\n",
       "      <td>15588.750000</td>\n",
       "      <td>1.552869e+18</td>\n",
       "      <td>0.000000</td>\n",
       "      <td>0.000000</td>\n",
       "      <td>1.870000e+02</td>\n",
       "      <td>249.000000</td>\n",
       "    </tr>\n",
       "    <tr>\n",
       "      <th>50%</th>\n",
       "      <td>34068.000000</td>\n",
       "      <td>1.552891e+18</td>\n",
       "      <td>0.000000</td>\n",
       "      <td>1.000000</td>\n",
       "      <td>5.610000e+02</td>\n",
       "      <td>551.000000</td>\n",
       "    </tr>\n",
       "    <tr>\n",
       "      <th>75%</th>\n",
       "      <td>52547.250000</td>\n",
       "      <td>1.553089e+18</td>\n",
       "      <td>0.000000</td>\n",
       "      <td>2.000000</td>\n",
       "      <td>1.432000e+03</td>\n",
       "      <td>1070.000000</td>\n",
       "    </tr>\n",
       "    <tr>\n",
       "      <th>max</th>\n",
       "      <td>77293.000000</td>\n",
       "      <td>1.554620e+18</td>\n",
       "      <td>10424.000000</td>\n",
       "      <td>65029.000000</td>\n",
       "      <td>7.583368e+07</td>\n",
       "      <td>584114.000000</td>\n",
       "    </tr>\n",
       "  </tbody>\n",
       "</table>\n",
       "</div>"
      ],
      "text/plain": [
       "          Unnamed: 0            id       retweets          likes  \\\n",
       "count  147836.000000  1.478360e+05  147836.000000  147836.000000   \n",
       "mean    34503.171359  1.553045e+18       4.381193      27.628271   \n",
       "std     21530.100008  4.586215e+14      88.264029     542.998659   \n",
       "min         0.000000  1.550675e+18       0.000000       0.000000   \n",
       "25%     15588.750000  1.552869e+18       0.000000       0.000000   \n",
       "50%     34068.000000  1.552891e+18       0.000000       1.000000   \n",
       "75%     52547.250000  1.553089e+18       0.000000       2.000000   \n",
       "max     77293.000000  1.554620e+18   10424.000000   65029.000000   \n",
       "\n",
       "          followers      following  \n",
       "count  1.478360e+05  147836.000000  \n",
       "mean   1.216340e+04    1035.612821  \n",
       "std    3.190928e+05    4003.497084  \n",
       "min    0.000000e+00       0.000000  \n",
       "25%    1.870000e+02     249.000000  \n",
       "50%    5.610000e+02     551.000000  \n",
       "75%    1.432000e+03    1070.000000  \n",
       "max    7.583368e+07  584114.000000  "
      ]
     },
     "execution_count": 13,
     "metadata": {},
     "output_type": "execute_result"
    }
   ],
   "source": [
    "# Checking statistics of dataframe\n",
    "tweet_df.describe()"
   ]
  },
  {
   "cell_type": "code",
   "execution_count": 14,
   "id": "80fd42b3",
   "metadata": {},
   "outputs": [
    {
     "data": {
      "text/html": [
       "<pre>✔️ 31 ms (2022-08-11T23:07:30/2022-08-11T23:07:30)</pre>"
      ],
      "text/plain": [
       "<IPython.core.display.HTML object>"
      ]
     },
     "metadata": {},
     "output_type": "display_data"
    },
    {
     "data": {
      "text/plain": [
       "Unnamed: 0        int64\n",
       "id                int64\n",
       "username         object\n",
       "time_of_tweet    object\n",
       "tweet            object\n",
       "location         object\n",
       "retweets          int64\n",
       "likes             int64\n",
       "followers         int64\n",
       "following         int64\n",
       "verified           bool\n",
       "tweet_source     object\n",
       "dtype: object"
      ]
     },
     "execution_count": 14,
     "metadata": {},
     "output_type": "execute_result"
    }
   ],
   "source": [
    "# Checking the datatypes of each column\n",
    "tweet_df.dtypes"
   ]
  },
  {
   "cell_type": "markdown",
   "id": "6ab93988",
   "metadata": {},
   "source": [
    "## Assessments"
   ]
  },
  {
   "cell_type": "markdown",
   "id": "19219133",
   "metadata": {},
   "source": [
    "These are the data issues I observed;\n",
    "\n",
    "1. Erroneous datatypes\n",
    "2. Presence of tweets before 24th July and after 2 August\n",
    "3. Irrelevant column 'unnnamed' \n",
    "4. Missing values in 'location' column\n",
    "5. Duplicate entry in dataframe"
   ]
  },
  {
   "cell_type": "markdown",
   "id": "2aceb5a8",
   "metadata": {},
   "source": [
    "## 4. Data Cleaning"
   ]
  },
  {
   "cell_type": "markdown",
   "id": "dcccf3c9",
   "metadata": {},
   "source": [
    "The dataframe is cleaned in this section. Erroneous datatypes were changed to correct datatypes (id was converted from integer to string because it is a unique identifier and not to be used for calculations), Missing values were handled by filling with 'No Location', duplicate entries were dropped, the dataframe was reduced to the correct timeframe as well."
   ]
  },
  {
   "cell_type": "markdown",
   "id": "6ca13e6c",
   "metadata": {},
   "source": [
    "**Making  a Copy of Data Before Cleaning**"
   ]
  },
  {
   "cell_type": "code",
   "execution_count": 15,
   "id": "e7035432",
   "metadata": {},
   "outputs": [
    {
     "data": {
      "text/html": [
       "<pre>✔️ 94 ms (2022-08-11T23:07:30/2022-08-11T23:07:31)</pre>"
      ],
      "text/plain": [
       "<IPython.core.display.HTML object>"
      ]
     },
     "metadata": {},
     "output_type": "display_data"
    }
   ],
   "source": [
    "tweets_df = tweet_df.copy()"
   ]
  },
  {
   "cell_type": "markdown",
   "id": "9cdc0b55",
   "metadata": {},
   "source": [
    "## Issue 1:"
   ]
  },
  {
   "cell_type": "markdown",
   "id": "a189291c",
   "metadata": {},
   "source": [
    "**Define** <br>\n",
    "Convert time_of_tweet to datetime and tweet id to string."
   ]
  },
  {
   "cell_type": "markdown",
   "id": "ac60e76e",
   "metadata": {},
   "source": [
    "**Code**"
   ]
  },
  {
   "cell_type": "code",
   "execution_count": 16,
   "id": "5c00ade9",
   "metadata": {},
   "outputs": [
    {
     "data": {
      "text/html": [
       "<pre>✔️ 23 s (2022-08-11T23:07:31/2022-08-11T23:07:54)</pre>"
      ],
      "text/plain": [
       "<IPython.core.display.HTML object>"
      ]
     },
     "metadata": {},
     "output_type": "display_data"
    }
   ],
   "source": [
    "# coverting to datetime using pandas to_datetime\n",
    "tweets_df['time_of_tweet'] = tweets_df['time_of_tweet'].apply(pd.to_datetime)"
   ]
  },
  {
   "cell_type": "code",
   "execution_count": 17,
   "id": "071691f2",
   "metadata": {},
   "outputs": [
    {
     "data": {
      "text/html": [
       "<pre>✔️ 234 ms (2022-08-11T23:07:54/2022-08-11T23:07:54)</pre>"
      ],
      "text/plain": [
       "<IPython.core.display.HTML object>"
      ]
     },
     "metadata": {},
     "output_type": "display_data"
    }
   ],
   "source": [
    "# converting id to string\n",
    "tweets_df['id'] = tweets_df['id'].astype(str)"
   ]
  },
  {
   "cell_type": "markdown",
   "id": "f7b8ca5e",
   "metadata": {},
   "source": [
    "**Test**"
   ]
  },
  {
   "cell_type": "code",
   "execution_count": 18,
   "id": "df3c487d",
   "metadata": {},
   "outputs": [
    {
     "data": {
      "text/html": [
       "<pre>✔️ 266 ms (2022-08-11T23:07:54/2022-08-11T23:07:54)</pre>"
      ],
      "text/plain": [
       "<IPython.core.display.HTML object>"
      ]
     },
     "metadata": {},
     "output_type": "display_data"
    },
    {
     "data": {
      "text/plain": [
       "Unnamed: 0                     int64\n",
       "id                            object\n",
       "username                      object\n",
       "time_of_tweet    datetime64[ns, UTC]\n",
       "tweet                         object\n",
       "location                      object\n",
       "retweets                       int64\n",
       "likes                          int64\n",
       "followers                      int64\n",
       "following                      int64\n",
       "verified                        bool\n",
       "tweet_source                  object\n",
       "dtype: object"
      ]
     },
     "execution_count": 18,
     "metadata": {},
     "output_type": "execute_result"
    }
   ],
   "source": [
    "# Checking the datatypes\n",
    "tweets_df.dtypes"
   ]
  },
  {
   "cell_type": "markdown",
   "id": "1b3575c2",
   "metadata": {},
   "source": [
    "### Issue 2:"
   ]
  },
  {
   "cell_type": "markdown",
   "id": "d882c47d",
   "metadata": {},
   "source": [
    "**Define** <br>\n",
    "Drop tweets before 2022-07-24 and after 2022-08-02"
   ]
  },
  {
   "cell_type": "markdown",
   "id": "25037b67",
   "metadata": {},
   "source": [
    "**Code**"
   ]
  },
  {
   "cell_type": "markdown",
   "id": "dd5902e3",
   "metadata": {},
   "source": [
    "Note, Twitter's time is UTC"
   ]
  },
  {
   "cell_type": "code",
   "execution_count": 19,
   "id": "8b732378",
   "metadata": {},
   "outputs": [
    {
     "data": {
      "text/html": [
       "<pre>✔️ 0 ns (2022-08-11T23:07:55/2022-08-11T23:07:55)</pre>"
      ],
      "text/plain": [
       "<IPython.core.display.HTML object>"
      ]
     },
     "metadata": {},
     "output_type": "display_data"
    }
   ],
   "source": [
    "# Specifying start date and end date\n",
    "start_date = '2022-07-24 00:00:00+00:00'\n",
    "end_date = '2022-08-03 00:00:00+00:00'"
   ]
  },
  {
   "cell_type": "code",
   "execution_count": 20,
   "id": "25c53b7e",
   "metadata": {},
   "outputs": [
    {
     "data": {
      "text/html": [
       "<pre>✔️ 860 ms (2022-08-11T23:07:55/2022-08-11T23:07:56)</pre>"
      ],
      "text/plain": [
       "<IPython.core.display.HTML object>"
      ]
     },
     "metadata": {},
     "output_type": "display_data"
    }
   ],
   "source": [
    "# Dropping tweets\n",
    "mask = (tweets_df['time_of_tweet'] >= start_date) & (tweets_df['time_of_tweet'] < end_date)\n",
    "tweets_df = tweets_df.loc[mask]"
   ]
  },
  {
   "cell_type": "markdown",
   "id": "90e1f52a",
   "metadata": {},
   "source": [
    "**Test**"
   ]
  },
  {
   "cell_type": "code",
   "execution_count": 21,
   "id": "aa9ecb8a",
   "metadata": {},
   "outputs": [
    {
     "data": {
      "text/html": [
       "<pre>✔️ 15 ms (2022-08-11T23:07:56/2022-08-11T23:07:56)</pre>"
      ],
      "text/plain": [
       "<IPython.core.display.HTML object>"
      ]
     },
     "metadata": {},
     "output_type": "display_data"
    },
    {
     "data": {
      "text/plain": [
       "(147531, 12)"
      ]
     },
     "execution_count": 21,
     "metadata": {},
     "output_type": "execute_result"
    }
   ],
   "source": [
    "# Checking to see if the shape has been reduced since we dropped rows\n",
    "tweets_df.shape"
   ]
  },
  {
   "cell_type": "code",
   "execution_count": 22,
   "id": "4ae6dc04",
   "metadata": {},
   "outputs": [
    {
     "data": {
      "text/html": [
       "<pre>✔️ 297 ms (2022-08-11T23:07:56/2022-08-11T23:07:56)</pre>"
      ],
      "text/plain": [
       "<IPython.core.display.HTML object>"
      ]
     },
     "metadata": {},
     "output_type": "display_data"
    },
    {
     "data": {
      "text/plain": [
       "Timestamp('2022-08-02 23:59:59+0000', tz='UTC')"
      ]
     },
     "execution_count": 22,
     "metadata": {},
     "output_type": "execute_result"
    }
   ],
   "source": [
    "tweets_df.time_of_tweet.max()"
   ]
  },
  {
   "cell_type": "code",
   "execution_count": 23,
   "id": "447dc477",
   "metadata": {},
   "outputs": [
    {
     "data": {
      "text/html": [
       "<pre>✔️ 1.23 s (2022-08-11T23:07:57/2022-08-11T23:07:58)</pre>"
      ],
      "text/plain": [
       "<IPython.core.display.HTML object>"
      ]
     },
     "metadata": {},
     "output_type": "display_data"
    },
    {
     "data": {
      "text/plain": [
       "Timestamp('2022-07-24 00:11:29+0000', tz='UTC')"
      ]
     },
     "execution_count": 23,
     "metadata": {},
     "output_type": "execute_result"
    }
   ],
   "source": [
    "tweets_df.time_of_tweet.min()"
   ]
  },
  {
   "cell_type": "markdown",
   "id": "7a53d74b",
   "metadata": {},
   "source": [
    "**COMMENT:** Tweets are now ranging from 24th of July to 2nd of August. A span of 10 days"
   ]
  },
  {
   "cell_type": "markdown",
   "id": "59876810",
   "metadata": {},
   "source": [
    "### Issue 3:"
   ]
  },
  {
   "cell_type": "markdown",
   "id": "11b01688",
   "metadata": {},
   "source": [
    "**Define** <br>\n",
    "Drop Unnamed: 0 column from dataframe"
   ]
  },
  {
   "cell_type": "markdown",
   "id": "f5d3d6f3",
   "metadata": {},
   "source": [
    "**Code**"
   ]
  },
  {
   "cell_type": "code",
   "execution_count": 24,
   "id": "4bf58f5d",
   "metadata": {},
   "outputs": [
    {
     "data": {
      "text/html": [
       "<pre>✔️ 468 ms (2022-08-11T23:07:58/2022-08-11T23:07:58)</pre>"
      ],
      "text/plain": [
       "<IPython.core.display.HTML object>"
      ]
     },
     "metadata": {},
     "output_type": "display_data"
    }
   ],
   "source": [
    "#Dropping unnamed:0 column\n",
    "tweets_df.drop(columns = ['Unnamed: 0'], axis=1, inplace=True)"
   ]
  },
  {
   "cell_type": "code",
   "execution_count": 25,
   "id": "01ebf2f4",
   "metadata": {},
   "outputs": [
    {
     "data": {
      "text/html": [
       "<pre>✔️ 297 ms (2022-08-11T23:07:59/2022-08-11T23:07:59)</pre>"
      ],
      "text/plain": [
       "<IPython.core.display.HTML object>"
      ]
     },
     "metadata": {},
     "output_type": "display_data"
    }
   ],
   "source": [
    "# Reset index\n",
    "tweets_df = tweets_df.reset_index(drop=True)"
   ]
  },
  {
   "cell_type": "markdown",
   "id": "9df51056",
   "metadata": {},
   "source": [
    "**Test**"
   ]
  },
  {
   "cell_type": "code",
   "execution_count": 26,
   "id": "02db3d18",
   "metadata": {},
   "outputs": [
    {
     "data": {
      "text/html": [
       "<pre>✔️ 344 ms (2022-08-11T23:07:59/2022-08-11T23:07:59)</pre>"
      ],
      "text/plain": [
       "<IPython.core.display.HTML object>"
      ]
     },
     "metadata": {},
     "output_type": "display_data"
    },
    {
     "data": {
      "text/plain": [
       "Index(['id', 'username', 'time_of_tweet', 'tweet', 'location', 'retweets',\n",
       "       'likes', 'followers', 'following', 'verified', 'tweet_source'],\n",
       "      dtype='object')"
      ]
     },
     "execution_count": 26,
     "metadata": {},
     "output_type": "execute_result"
    }
   ],
   "source": [
    "# checking to see if column has been dropped successfully\n",
    "tweets_df.columns"
   ]
  },
  {
   "cell_type": "code",
   "execution_count": 27,
   "id": "a1814d25",
   "metadata": {},
   "outputs": [
    {
     "data": {
      "text/html": [
       "<pre>✔️ 437 ms (2022-08-11T23:07:59/2022-08-11T23:08:00)</pre>"
      ],
      "text/plain": [
       "<IPython.core.display.HTML object>"
      ]
     },
     "metadata": {},
     "output_type": "display_data"
    },
    {
     "data": {
      "text/html": [
       "<div>\n",
       "<style scoped>\n",
       "    .dataframe tbody tr th:only-of-type {\n",
       "        vertical-align: middle;\n",
       "    }\n",
       "\n",
       "    .dataframe tbody tr th {\n",
       "        vertical-align: top;\n",
       "    }\n",
       "\n",
       "    .dataframe thead th {\n",
       "        text-align: right;\n",
       "    }\n",
       "</style>\n",
       "<table border=\"1\" class=\"dataframe\">\n",
       "  <thead>\n",
       "    <tr style=\"text-align: right;\">\n",
       "      <th></th>\n",
       "      <th>id</th>\n",
       "      <th>username</th>\n",
       "      <th>time_of_tweet</th>\n",
       "      <th>tweet</th>\n",
       "      <th>location</th>\n",
       "      <th>retweets</th>\n",
       "      <th>likes</th>\n",
       "      <th>followers</th>\n",
       "      <th>following</th>\n",
       "      <th>verified</th>\n",
       "      <th>tweet_source</th>\n",
       "    </tr>\n",
       "  </thead>\n",
       "  <tbody>\n",
       "    <tr>\n",
       "      <th>147526</th>\n",
       "      <td>1554227010020392960</td>\n",
       "      <td>jqkcl</td>\n",
       "      <td>2022-08-01 22:06:09+00:00</td>\n",
       "      <td>My top artist in July on @TIDAL was @Beyonce. ...</td>\n",
       "      <td>yay area + ucsd</td>\n",
       "      <td>0</td>\n",
       "      <td>1</td>\n",
       "      <td>574</td>\n",
       "      <td>249</td>\n",
       "      <td>False</td>\n",
       "      <td>Twitter for iPhone</td>\n",
       "    </tr>\n",
       "    <tr>\n",
       "      <th>147527</th>\n",
       "      <td>1554226956526313473</td>\n",
       "      <td>cicidreamfish</td>\n",
       "      <td>2022-08-01 22:05:57+00:00</td>\n",
       "      <td>“Head on a pillow, hike it in the air…”\\nAlien...</td>\n",
       "      <td>Kingston, Ontario</td>\n",
       "      <td>0</td>\n",
       "      <td>1</td>\n",
       "      <td>260</td>\n",
       "      <td>153</td>\n",
       "      <td>False</td>\n",
       "      <td>Twitter for iPhone</td>\n",
       "    </tr>\n",
       "    <tr>\n",
       "      <th>147528</th>\n",
       "      <td>1554226862133579776</td>\n",
       "      <td>iamjordanlive</td>\n",
       "      <td>2022-08-01 22:05:34+00:00</td>\n",
       "      <td>No transition hit better!!🙌🏾🔥\\n#RENAISSANCE ht...</td>\n",
       "      <td>Atlanta, GA</td>\n",
       "      <td>0</td>\n",
       "      <td>0</td>\n",
       "      <td>570</td>\n",
       "      <td>1541</td>\n",
       "      <td>False</td>\n",
       "      <td>Twitter for iPhone</td>\n",
       "    </tr>\n",
       "    <tr>\n",
       "      <th>147529</th>\n",
       "      <td>1554226760081764352</td>\n",
       "      <td>rolecallpod</td>\n",
       "      <td>2022-08-01 22:05:10+00:00</td>\n",
       "      <td>I should’ve/could’ve used Car Wash but… #Beyon...</td>\n",
       "      <td>Bay Area</td>\n",
       "      <td>2</td>\n",
       "      <td>5</td>\n",
       "      <td>541</td>\n",
       "      <td>302</td>\n",
       "      <td>False</td>\n",
       "      <td>Twitter for iPhone</td>\n",
       "    </tr>\n",
       "    <tr>\n",
       "      <th>147530</th>\n",
       "      <td>1554226749642260482</td>\n",
       "      <td>S4NTINY_</td>\n",
       "      <td>2022-08-01 22:05:07+00:00</td>\n",
       "      <td>#RENAISSANCE  ON BUCLE 🥵</td>\n",
       "      <td>Lima - Perú</td>\n",
       "      <td>0</td>\n",
       "      <td>0</td>\n",
       "      <td>2037</td>\n",
       "      <td>106</td>\n",
       "      <td>False</td>\n",
       "      <td>Twitter for iPhone</td>\n",
       "    </tr>\n",
       "  </tbody>\n",
       "</table>\n",
       "</div>"
      ],
      "text/plain": [
       "                         id       username             time_of_tweet  \\\n",
       "147526  1554227010020392960          jqkcl 2022-08-01 22:06:09+00:00   \n",
       "147527  1554226956526313473  cicidreamfish 2022-08-01 22:05:57+00:00   \n",
       "147528  1554226862133579776  iamjordanlive 2022-08-01 22:05:34+00:00   \n",
       "147529  1554226760081764352    rolecallpod 2022-08-01 22:05:10+00:00   \n",
       "147530  1554226749642260482       S4NTINY_ 2022-08-01 22:05:07+00:00   \n",
       "\n",
       "                                                    tweet           location  \\\n",
       "147526  My top artist in July on @TIDAL was @Beyonce. ...    yay area + ucsd   \n",
       "147527  “Head on a pillow, hike it in the air…”\\nAlien...  Kingston, Ontario   \n",
       "147528  No transition hit better!!🙌🏾🔥\\n#RENAISSANCE ht...        Atlanta, GA   \n",
       "147529  I should’ve/could’ve used Car Wash but… #Beyon...           Bay Area   \n",
       "147530                           #RENAISSANCE  ON BUCLE 🥵        Lima - Perú   \n",
       "\n",
       "        retweets  likes  followers  following  verified        tweet_source  \n",
       "147526         0      1        574        249     False  Twitter for iPhone  \n",
       "147527         0      1        260        153     False  Twitter for iPhone  \n",
       "147528         0      0        570       1541     False  Twitter for iPhone  \n",
       "147529         2      5        541        302     False  Twitter for iPhone  \n",
       "147530         0      0       2037        106     False  Twitter for iPhone  "
      ]
     },
     "execution_count": 27,
     "metadata": {},
     "output_type": "execute_result"
    }
   ],
   "source": [
    "tweets_df.tail()"
   ]
  },
  {
   "cell_type": "markdown",
   "id": "5f5fc765",
   "metadata": {},
   "source": [
    "### Issue 4:"
   ]
  },
  {
   "cell_type": "markdown",
   "id": "e4d738ae",
   "metadata": {},
   "source": [
    "**Define** <br>\n",
    "Replace Missing values in Location with 'No Location'"
   ]
  },
  {
   "cell_type": "markdown",
   "id": "e70a2db3",
   "metadata": {},
   "source": [
    "**Code**"
   ]
  },
  {
   "cell_type": "code",
   "execution_count": 28,
   "id": "04d633d5",
   "metadata": {},
   "outputs": [
    {
     "data": {
      "text/html": [
       "<pre>✔️ 266 ms (2022-08-11T23:08:00/2022-08-11T23:08:00)</pre>"
      ],
      "text/plain": [
       "<IPython.core.display.HTML object>"
      ]
     },
     "metadata": {},
     "output_type": "display_data"
    }
   ],
   "source": [
    "# filling nulls in location column using fillna\n",
    "tweets_df.location.fillna('No Location', inplace=True)"
   ]
  },
  {
   "cell_type": "markdown",
   "id": "dfe1c6ae",
   "metadata": {},
   "source": [
    "**Test**"
   ]
  },
  {
   "cell_type": "code",
   "execution_count": 29,
   "id": "9811b995",
   "metadata": {},
   "outputs": [
    {
     "data": {
      "text/html": [
       "<pre>✔️ 782 ms (2022-08-11T23:08:00/2022-08-11T23:08:01)</pre>"
      ],
      "text/plain": [
       "<IPython.core.display.HTML object>"
      ]
     },
     "metadata": {},
     "output_type": "display_data"
    },
    {
     "data": {
      "text/plain": [
       "id               0\n",
       "username         0\n",
       "time_of_tweet    0\n",
       "tweet            0\n",
       "location         0\n",
       "retweets         0\n",
       "likes            0\n",
       "followers        0\n",
       "following        0\n",
       "verified         0\n",
       "tweet_source     0\n",
       "dtype: int64"
      ]
     },
     "execution_count": 29,
     "metadata": {},
     "output_type": "execute_result"
    }
   ],
   "source": [
    "# Checking for missing values/ nulls\n",
    "tweets_df.isnull().sum()"
   ]
  },
  {
   "cell_type": "markdown",
   "id": "b923aa9f",
   "metadata": {},
   "source": [
    "### Issue 5:"
   ]
  },
  {
   "cell_type": "markdown",
   "id": "08711c5d",
   "metadata": {},
   "source": [
    "**Define** <br>\n",
    "Drop Duplicates"
   ]
  },
  {
   "cell_type": "markdown",
   "id": "7aafca36",
   "metadata": {},
   "source": [
    "**Code**"
   ]
  },
  {
   "cell_type": "code",
   "execution_count": 30,
   "id": "d96631a6",
   "metadata": {},
   "outputs": [
    {
     "data": {
      "text/html": [
       "<pre>✔️ 203 ms (2022-08-11T23:08:01/2022-08-11T23:08:02)</pre>"
      ],
      "text/plain": [
       "<IPython.core.display.HTML object>"
      ]
     },
     "metadata": {},
     "output_type": "display_data"
    }
   ],
   "source": [
    "tweets_df.drop_duplicates(subset='id', inplace=True)"
   ]
  },
  {
   "cell_type": "markdown",
   "id": "0a7080fa",
   "metadata": {},
   "source": [
    "**Test**"
   ]
  },
  {
   "cell_type": "code",
   "execution_count": 31,
   "id": "2ddd7bd4",
   "metadata": {},
   "outputs": [
    {
     "data": {
      "text/html": [
       "<pre>✔️ 109 ms (2022-08-11T23:08:02/2022-08-11T23:08:02)</pre>"
      ],
      "text/plain": [
       "<IPython.core.display.HTML object>"
      ]
     },
     "metadata": {},
     "output_type": "display_data"
    },
    {
     "data": {
      "text/plain": [
       "0"
      ]
     },
     "execution_count": 31,
     "metadata": {},
     "output_type": "execute_result"
    }
   ],
   "source": [
    "# Checking for duplicates\n",
    "tweets_df.duplicated(subset='id').sum()"
   ]
  },
  {
   "cell_type": "markdown",
   "id": "97389e12",
   "metadata": {},
   "source": [
    "**COMMENT:** I'm done with all cleaning so I'll save it to a csv file."
   ]
  },
  {
   "cell_type": "markdown",
   "id": "07b8d1a3",
   "metadata": {},
   "source": [
    "**STORING CLEANED DATAFRAME TO A CSV FILE**"
   ]
  },
  {
   "cell_type": "code",
   "execution_count": 32,
   "id": "a9dbc3ba",
   "metadata": {},
   "outputs": [
    {
     "data": {
      "text/html": [
       "<pre>✔️ 5.88 s (2022-08-11T23:08:02/2022-08-11T23:08:08)</pre>"
      ],
      "text/plain": [
       "<IPython.core.display.HTML object>"
      ]
     },
     "metadata": {},
     "output_type": "display_data"
    }
   ],
   "source": [
    "tweets_df.to_csv('Renaissance_Cleaned.csv')"
   ]
  },
  {
   "cell_type": "markdown",
   "id": "9af4b9dc",
   "metadata": {},
   "source": [
    "## 5. Data Preprocessing"
   ]
  },
  {
   "cell_type": "markdown",
   "id": "332347cd",
   "metadata": {},
   "source": [
    "Data preprocessing involves all data cleaning in preparing tweets for Sentiment analysis.\n",
    "To do this, I created several functions which I applied to 'tweet' column in my dataframe to produce desired results.\n",
    "Properly preprocessing data results in more accurate downstream processes.\n",
    "\n",
    "\n",
    "<br>\n",
    "Also, for my Word Cloud, I wanted to show the words used to describe the album, so I created a function to extract some Positive Music words to a new column.\n"
   ]
  },
  {
   "cell_type": "code",
   "execution_count": 33,
   "id": "491e3be0",
   "metadata": {},
   "outputs": [
    {
     "data": {
      "text/html": [
       "<pre>✔️ 16 ms (2022-08-11T23:08:08/2022-08-11T23:08:08)</pre>"
      ],
      "text/plain": [
       "<IPython.core.display.HTML object>"
      ]
     },
     "metadata": {},
     "output_type": "display_data"
    }
   ],
   "source": [
    "# Defining a function to extract hashtags with REGEX(Regular Expressions)\n",
    "def getHashtags(tweet):\n",
    "    tweet = tweet.lower()  #converts tweet to lower case\n",
    "    tweet = re.findall(r'\\#\\w+',tweet)  \n",
    "    return \" \".join(tweet)"
   ]
  },
  {
   "cell_type": "code",
   "execution_count": 34,
   "id": "6d7e653d",
   "metadata": {},
   "outputs": [
    {
     "data": {
      "text/html": [
       "<pre>✔️ 703 ms (2022-08-11T23:08:08/2022-08-11T23:08:09)</pre>"
      ],
      "text/plain": [
       "<IPython.core.display.HTML object>"
      ]
     },
     "metadata": {},
     "output_type": "display_data"
    },
    {
     "data": {
      "text/html": [
       "<div>\n",
       "<style scoped>\n",
       "    .dataframe tbody tr th:only-of-type {\n",
       "        vertical-align: middle;\n",
       "    }\n",
       "\n",
       "    .dataframe tbody tr th {\n",
       "        vertical-align: top;\n",
       "    }\n",
       "\n",
       "    .dataframe thead th {\n",
       "        text-align: right;\n",
       "    }\n",
       "</style>\n",
       "<table border=\"1\" class=\"dataframe\">\n",
       "  <thead>\n",
       "    <tr style=\"text-align: right;\">\n",
       "      <th></th>\n",
       "      <th>id</th>\n",
       "      <th>username</th>\n",
       "      <th>time_of_tweet</th>\n",
       "      <th>tweet</th>\n",
       "      <th>location</th>\n",
       "      <th>retweets</th>\n",
       "      <th>likes</th>\n",
       "      <th>followers</th>\n",
       "      <th>following</th>\n",
       "      <th>verified</th>\n",
       "      <th>tweet_source</th>\n",
       "      <th>hashtags</th>\n",
       "    </tr>\n",
       "  </thead>\n",
       "  <tbody>\n",
       "    <tr>\n",
       "      <th>0</th>\n",
       "      <td>1552881884836859905</td>\n",
       "      <td>_Chrisss7</td>\n",
       "      <td>2022-07-29 05:01:07+00:00</td>\n",
       "      <td>Cozy is so cunt 😭🔥 #RENAISSANCE</td>\n",
       "      <td>904</td>\n",
       "      <td>0</td>\n",
       "      <td>0</td>\n",
       "      <td>396</td>\n",
       "      <td>391</td>\n",
       "      <td>False</td>\n",
       "      <td>Twitter for iPhone</td>\n",
       "      <td>#renaissance</td>\n",
       "    </tr>\n",
       "    <tr>\n",
       "      <th>1</th>\n",
       "      <td>1552881884782370817</td>\n",
       "      <td>anseldeangelo</td>\n",
       "      <td>2022-07-29 05:01:07+00:00</td>\n",
       "      <td>Listening to #RENAISSANCE high was one of the ...</td>\n",
       "      <td>Florida, USA</td>\n",
       "      <td>0</td>\n",
       "      <td>0</td>\n",
       "      <td>3101</td>\n",
       "      <td>728</td>\n",
       "      <td>False</td>\n",
       "      <td>Twitter for iPhone</td>\n",
       "      <td>#renaissance</td>\n",
       "    </tr>\n",
       "    <tr>\n",
       "      <th>2</th>\n",
       "      <td>1552881883389861889</td>\n",
       "      <td>juhdayyy</td>\n",
       "      <td>2022-07-29 05:01:06+00:00</td>\n",
       "      <td>i got 50-11 captions ready to go 🤭 #RENAISSANCE</td>\n",
       "      <td>757</td>\n",
       "      <td>0</td>\n",
       "      <td>0</td>\n",
       "      <td>639</td>\n",
       "      <td>584</td>\n",
       "      <td>False</td>\n",
       "      <td>Twitter for iPhone</td>\n",
       "      <td>#renaissance</td>\n",
       "    </tr>\n",
       "    <tr>\n",
       "      <th>3</th>\n",
       "      <td>1552881883217895424</td>\n",
       "      <td>sir_marcell</td>\n",
       "      <td>2022-07-29 05:01:06+00:00</td>\n",
       "      <td>Calling all singers!!!! The scales at the end ...</td>\n",
       "      <td>Atlanta, GA</td>\n",
       "      <td>0</td>\n",
       "      <td>1</td>\n",
       "      <td>773</td>\n",
       "      <td>460</td>\n",
       "      <td>False</td>\n",
       "      <td>Twitter for iPhone</td>\n",
       "      <td>#renaissance</td>\n",
       "    </tr>\n",
       "    <tr>\n",
       "      <th>4</th>\n",
       "      <td>1552881883205099520</td>\n",
       "      <td>JadedTyson</td>\n",
       "      <td>2022-07-29 05:01:06+00:00</td>\n",
       "      <td>PURE/HONEY unlocked the inner voguer that resi...</td>\n",
       "      <td>LA   He/They</td>\n",
       "      <td>0</td>\n",
       "      <td>2</td>\n",
       "      <td>252</td>\n",
       "      <td>232</td>\n",
       "      <td>False</td>\n",
       "      <td>Twitter for iPhone</td>\n",
       "      <td>#renaissance</td>\n",
       "    </tr>\n",
       "  </tbody>\n",
       "</table>\n",
       "</div>"
      ],
      "text/plain": [
       "                    id       username             time_of_tweet  \\\n",
       "0  1552881884836859905      _Chrisss7 2022-07-29 05:01:07+00:00   \n",
       "1  1552881884782370817  anseldeangelo 2022-07-29 05:01:07+00:00   \n",
       "2  1552881883389861889       juhdayyy 2022-07-29 05:01:06+00:00   \n",
       "3  1552881883217895424    sir_marcell 2022-07-29 05:01:06+00:00   \n",
       "4  1552881883205099520     JadedTyson 2022-07-29 05:01:06+00:00   \n",
       "\n",
       "                                               tweet      location  retweets  \\\n",
       "0                    Cozy is so cunt 😭🔥 #RENAISSANCE           904         0   \n",
       "1  Listening to #RENAISSANCE high was one of the ...  Florida, USA         0   \n",
       "2    i got 50-11 captions ready to go 🤭 #RENAISSANCE          757          0   \n",
       "3  Calling all singers!!!! The scales at the end ...   Atlanta, GA         0   \n",
       "4  PURE/HONEY unlocked the inner voguer that resi...  LA   He/They         0   \n",
       "\n",
       "   likes  followers  following  verified        tweet_source      hashtags  \n",
       "0      0        396        391     False  Twitter for iPhone  #renaissance  \n",
       "1      0       3101        728     False  Twitter for iPhone  #renaissance  \n",
       "2      0        639        584     False  Twitter for iPhone  #renaissance  \n",
       "3      1        773        460     False  Twitter for iPhone  #renaissance  \n",
       "4      2        252        232     False  Twitter for iPhone  #renaissance  "
      ]
     },
     "execution_count": 34,
     "metadata": {},
     "output_type": "execute_result"
    }
   ],
   "source": [
    "# Getting Hashtags and storing in column 'Hashtags'\n",
    "tweets_df['hashtags'] = tweets_df['tweet'].apply(getHashtags)\n",
    "tweets_df.head()"
   ]
  },
  {
   "cell_type": "code",
   "execution_count": 35,
   "id": "10c3a5ec",
   "metadata": {},
   "outputs": [
    {
     "data": {
      "text/html": [
       "<pre>✔️ 219 ms (2022-08-11T23:08:09/2022-08-11T23:08:09)</pre>"
      ],
      "text/plain": [
       "<IPython.core.display.HTML object>"
      ]
     },
     "metadata": {},
     "output_type": "display_data"
    },
    {
     "name": "stdout",
     "output_type": "stream",
     "text": [
      "The Total Number of Unique Hashtags is:  8761\n"
     ]
    }
   ],
   "source": [
    "# Store hashtags in a list\n",
    "hashtags_list = tweets_df['hashtags'].tolist()\n",
    "\n",
    "# Iterate over all hashtags and split where there is more than one hashtag per row of data\n",
    "hashtags = []\n",
    "for item in hashtags_list:\n",
    "    item = item.split()\n",
    "    for i in item:\n",
    "        hashtags.append(i)\n",
    "\n",
    "# Importing Collection module to determine unique count of all hashtags used\n",
    "from collections import Counter\n",
    "\n",
    "# Determine Unique count of all hashtags used\n",
    "counts = Counter(hashtags)\n",
    "hashtags_df = pd.DataFrame.from_dict(counts, orient='index').reset_index()\n",
    "hashtags_df.columns = ['hashtags', 'count']\n",
    "hashtags_df.sort_values(by='count', ascending=False, inplace=True)\n",
    "print(\"The Total Number of Unique Hashtags is: \", hashtags_df.shape[0])"
   ]
  },
  {
   "cell_type": "code",
   "execution_count": 36,
   "id": "e8aae219",
   "metadata": {},
   "outputs": [
    {
     "data": {
      "text/html": [
       "<pre>✔️ 15 ms (2022-08-11T23:08:09/2022-08-11T23:08:09)</pre>"
      ],
      "text/plain": [
       "<IPython.core.display.HTML object>"
      ]
     },
     "metadata": {},
     "output_type": "display_data"
    },
    {
     "data": {
      "text/html": [
       "<div>\n",
       "<style scoped>\n",
       "    .dataframe tbody tr th:only-of-type {\n",
       "        vertical-align: middle;\n",
       "    }\n",
       "\n",
       "    .dataframe tbody tr th {\n",
       "        vertical-align: top;\n",
       "    }\n",
       "\n",
       "    .dataframe thead th {\n",
       "        text-align: right;\n",
       "    }\n",
       "</style>\n",
       "<table border=\"1\" class=\"dataframe\">\n",
       "  <thead>\n",
       "    <tr style=\"text-align: right;\">\n",
       "      <th></th>\n",
       "      <th>hashtags</th>\n",
       "      <th>count</th>\n",
       "    </tr>\n",
       "  </thead>\n",
       "  <tbody>\n",
       "    <tr>\n",
       "      <th>0</th>\n",
       "      <td>#renaissance</td>\n",
       "      <td>144683</td>\n",
       "    </tr>\n",
       "    <tr>\n",
       "      <th>1</th>\n",
       "      <td>#beyonce</td>\n",
       "      <td>19450</td>\n",
       "    </tr>\n",
       "    <tr>\n",
       "      <th>3</th>\n",
       "      <td>#beyhive</td>\n",
       "      <td>4443</td>\n",
       "    </tr>\n",
       "    <tr>\n",
       "      <th>420</th>\n",
       "      <td>#rennaissance</td>\n",
       "      <td>4034</td>\n",
       "    </tr>\n",
       "    <tr>\n",
       "      <th>15</th>\n",
       "      <td>#beyoncé</td>\n",
       "      <td>2028</td>\n",
       "    </tr>\n",
       "    <tr>\n",
       "      <th>11</th>\n",
       "      <td>#1</td>\n",
       "      <td>1444</td>\n",
       "    </tr>\n",
       "    <tr>\n",
       "      <th>10</th>\n",
       "      <td>#clubrenaissance</td>\n",
       "      <td>1423</td>\n",
       "    </tr>\n",
       "    <tr>\n",
       "      <th>43</th>\n",
       "      <td>#churchgirl</td>\n",
       "      <td>843</td>\n",
       "    </tr>\n",
       "    <tr>\n",
       "      <th>2</th>\n",
       "      <td>#aliensuperstar</td>\n",
       "      <td>790</td>\n",
       "    </tr>\n",
       "    <tr>\n",
       "      <th>31</th>\n",
       "      <td>#breakmysoul</td>\n",
       "      <td>742</td>\n",
       "    </tr>\n",
       "  </tbody>\n",
       "</table>\n",
       "</div>"
      ],
      "text/plain": [
       "             hashtags   count\n",
       "0        #renaissance  144683\n",
       "1            #beyonce   19450\n",
       "3            #beyhive    4443\n",
       "420     #rennaissance    4034\n",
       "15           #beyoncé    2028\n",
       "11                 #1    1444\n",
       "10   #clubrenaissance    1423\n",
       "43        #churchgirl     843\n",
       "2     #aliensuperstar     790\n",
       "31       #breakmysoul     742"
      ]
     },
     "execution_count": 36,
     "metadata": {},
     "output_type": "execute_result"
    }
   ],
   "source": [
    "# Checking the hashtag dataframe for the top 10 hashtags used\n",
    "hashtags_df.head(10)"
   ]
  },
  {
   "cell_type": "code",
   "execution_count": 37,
   "id": "15afda0f",
   "metadata": {},
   "outputs": [
    {
     "data": {
      "text/html": [
       "<pre>✔️ 94 ms (2022-08-11T23:08:09/2022-08-11T23:08:10)</pre>"
      ],
      "text/plain": [
       "<IPython.core.display.HTML object>"
      ]
     },
     "metadata": {},
     "output_type": "display_data"
    }
   ],
   "source": [
    "# Saving hashtags dataframe to a csv file\n",
    "hashtags_df.to_csv('Ren_Hashtags.csv')"
   ]
  },
  {
   "cell_type": "code",
   "execution_count": 38,
   "id": "bd789e28",
   "metadata": {},
   "outputs": [
    {
     "data": {
      "text/html": [
       "<pre>✔️ 0 ns (2022-08-11T23:08:10/2022-08-11T23:08:10)</pre>"
      ],
      "text/plain": [
       "<IPython.core.display.HTML object>"
      ]
     },
     "metadata": {},
     "output_type": "display_data"
    }
   ],
   "source": [
    "# Defining a function\n",
    "def getTweetsLower(tweet):\n",
    "    tweet = tweet.lower()  #converts tweet to lower case\n",
    "    return tweet"
   ]
  },
  {
   "cell_type": "code",
   "execution_count": 39,
   "id": "5e682e2e",
   "metadata": {},
   "outputs": [
    {
     "data": {
      "text/html": [
       "<pre>✔️ 375 ms (2022-08-11T23:08:10/2022-08-11T23:08:10)</pre>"
      ],
      "text/plain": [
       "<IPython.core.display.HTML object>"
      ]
     },
     "metadata": {},
     "output_type": "display_data"
    },
    {
     "data": {
      "text/html": [
       "<div>\n",
       "<style scoped>\n",
       "    .dataframe tbody tr th:only-of-type {\n",
       "        vertical-align: middle;\n",
       "    }\n",
       "\n",
       "    .dataframe tbody tr th {\n",
       "        vertical-align: top;\n",
       "    }\n",
       "\n",
       "    .dataframe thead th {\n",
       "        text-align: right;\n",
       "    }\n",
       "</style>\n",
       "<table border=\"1\" class=\"dataframe\">\n",
       "  <thead>\n",
       "    <tr style=\"text-align: right;\">\n",
       "      <th></th>\n",
       "      <th>id</th>\n",
       "      <th>username</th>\n",
       "      <th>time_of_tweet</th>\n",
       "      <th>tweet</th>\n",
       "      <th>location</th>\n",
       "      <th>retweets</th>\n",
       "      <th>likes</th>\n",
       "      <th>followers</th>\n",
       "      <th>following</th>\n",
       "      <th>verified</th>\n",
       "      <th>tweet_source</th>\n",
       "      <th>hashtags</th>\n",
       "      <th>tweet_lowercase</th>\n",
       "    </tr>\n",
       "  </thead>\n",
       "  <tbody>\n",
       "    <tr>\n",
       "      <th>0</th>\n",
       "      <td>1552881884836859905</td>\n",
       "      <td>_Chrisss7</td>\n",
       "      <td>2022-07-29 05:01:07+00:00</td>\n",
       "      <td>Cozy is so cunt 😭🔥 #RENAISSANCE</td>\n",
       "      <td>904</td>\n",
       "      <td>0</td>\n",
       "      <td>0</td>\n",
       "      <td>396</td>\n",
       "      <td>391</td>\n",
       "      <td>False</td>\n",
       "      <td>Twitter for iPhone</td>\n",
       "      <td>#renaissance</td>\n",
       "      <td>cozy is so cunt 😭🔥 #renaissance</td>\n",
       "    </tr>\n",
       "    <tr>\n",
       "      <th>1</th>\n",
       "      <td>1552881884782370817</td>\n",
       "      <td>anseldeangelo</td>\n",
       "      <td>2022-07-29 05:01:07+00:00</td>\n",
       "      <td>Listening to #RENAISSANCE high was one of the ...</td>\n",
       "      <td>Florida, USA</td>\n",
       "      <td>0</td>\n",
       "      <td>0</td>\n",
       "      <td>3101</td>\n",
       "      <td>728</td>\n",
       "      <td>False</td>\n",
       "      <td>Twitter for iPhone</td>\n",
       "      <td>#renaissance</td>\n",
       "      <td>listening to #renaissance high was one of the ...</td>\n",
       "    </tr>\n",
       "    <tr>\n",
       "      <th>2</th>\n",
       "      <td>1552881883389861889</td>\n",
       "      <td>juhdayyy</td>\n",
       "      <td>2022-07-29 05:01:06+00:00</td>\n",
       "      <td>i got 50-11 captions ready to go 🤭 #RENAISSANCE</td>\n",
       "      <td>757</td>\n",
       "      <td>0</td>\n",
       "      <td>0</td>\n",
       "      <td>639</td>\n",
       "      <td>584</td>\n",
       "      <td>False</td>\n",
       "      <td>Twitter for iPhone</td>\n",
       "      <td>#renaissance</td>\n",
       "      <td>i got 50-11 captions ready to go 🤭 #renaissance</td>\n",
       "    </tr>\n",
       "    <tr>\n",
       "      <th>3</th>\n",
       "      <td>1552881883217895424</td>\n",
       "      <td>sir_marcell</td>\n",
       "      <td>2022-07-29 05:01:06+00:00</td>\n",
       "      <td>Calling all singers!!!! The scales at the end ...</td>\n",
       "      <td>Atlanta, GA</td>\n",
       "      <td>0</td>\n",
       "      <td>1</td>\n",
       "      <td>773</td>\n",
       "      <td>460</td>\n",
       "      <td>False</td>\n",
       "      <td>Twitter for iPhone</td>\n",
       "      <td>#renaissance</td>\n",
       "      <td>calling all singers!!!! the scales at the end ...</td>\n",
       "    </tr>\n",
       "    <tr>\n",
       "      <th>4</th>\n",
       "      <td>1552881883205099520</td>\n",
       "      <td>JadedTyson</td>\n",
       "      <td>2022-07-29 05:01:06+00:00</td>\n",
       "      <td>PURE/HONEY unlocked the inner voguer that resi...</td>\n",
       "      <td>LA   He/They</td>\n",
       "      <td>0</td>\n",
       "      <td>2</td>\n",
       "      <td>252</td>\n",
       "      <td>232</td>\n",
       "      <td>False</td>\n",
       "      <td>Twitter for iPhone</td>\n",
       "      <td>#renaissance</td>\n",
       "      <td>pure/honey unlocked the inner voguer that resi...</td>\n",
       "    </tr>\n",
       "  </tbody>\n",
       "</table>\n",
       "</div>"
      ],
      "text/plain": [
       "                    id       username             time_of_tweet  \\\n",
       "0  1552881884836859905      _Chrisss7 2022-07-29 05:01:07+00:00   \n",
       "1  1552881884782370817  anseldeangelo 2022-07-29 05:01:07+00:00   \n",
       "2  1552881883389861889       juhdayyy 2022-07-29 05:01:06+00:00   \n",
       "3  1552881883217895424    sir_marcell 2022-07-29 05:01:06+00:00   \n",
       "4  1552881883205099520     JadedTyson 2022-07-29 05:01:06+00:00   \n",
       "\n",
       "                                               tweet      location  retweets  \\\n",
       "0                    Cozy is so cunt 😭🔥 #RENAISSANCE           904         0   \n",
       "1  Listening to #RENAISSANCE high was one of the ...  Florida, USA         0   \n",
       "2    i got 50-11 captions ready to go 🤭 #RENAISSANCE          757          0   \n",
       "3  Calling all singers!!!! The scales at the end ...   Atlanta, GA         0   \n",
       "4  PURE/HONEY unlocked the inner voguer that resi...  LA   He/They         0   \n",
       "\n",
       "   likes  followers  following  verified        tweet_source      hashtags  \\\n",
       "0      0        396        391     False  Twitter for iPhone  #renaissance   \n",
       "1      0       3101        728     False  Twitter for iPhone  #renaissance   \n",
       "2      0        639        584     False  Twitter for iPhone  #renaissance   \n",
       "3      1        773        460     False  Twitter for iPhone  #renaissance   \n",
       "4      2        252        232     False  Twitter for iPhone  #renaissance   \n",
       "\n",
       "                                     tweet_lowercase  \n",
       "0                    cozy is so cunt 😭🔥 #renaissance  \n",
       "1  listening to #renaissance high was one of the ...  \n",
       "2    i got 50-11 captions ready to go 🤭 #renaissance  \n",
       "3  calling all singers!!!! the scales at the end ...  \n",
       "4  pure/honey unlocked the inner voguer that resi...  "
      ]
     },
     "execution_count": 39,
     "metadata": {},
     "output_type": "execute_result"
    }
   ],
   "source": [
    "# Get Tweets in lower case and store as tweet_lowercase\n",
    "tweets_df['tweet_lowercase'] = tweets_df['tweet'].apply(getTweetsLower)\n",
    "tweets_df.head()"
   ]
  },
  {
   "cell_type": "code",
   "execution_count": 40,
   "id": "3da0dad7",
   "metadata": {},
   "outputs": [
    {
     "data": {
      "text/html": [
       "<pre>✔️ 0 ns (2022-08-11T23:08:10/2022-08-11T23:08:10)</pre>"
      ],
      "text/plain": [
       "<IPython.core.display.HTML object>"
      ]
     },
     "metadata": {},
     "output_type": "display_data"
    }
   ],
   "source": [
    "# Creating a List containing Renaissance Track\n",
    "renaissance_tracks = [\"i'mthatgirl\", \"cozy\", \"aliensuperstar\", \"cuffit\", \"energy\", \"breakmysoul\", \"churchgirl\", \n",
    "                     \"plasticoffthesofa\", \"virgo'sgroove\", \"move\", \"heated\", \"thique\", \"allupinyourmind\",\n",
    "                      \"americahasaproblem\", \"pure/honey\", \"summerrenaissance\"]"
   ]
  },
  {
   "cell_type": "code",
   "execution_count": 41,
   "id": "6be439dd",
   "metadata": {},
   "outputs": [
    {
     "data": {
      "text/html": [
       "<pre>✔️ 6.45 s (2022-08-11T23:08:11/2022-08-11T23:08:17)</pre>"
      ],
      "text/plain": [
       "<IPython.core.display.HTML object>"
      ]
     },
     "metadata": {},
     "output_type": "display_data"
    },
    {
     "data": {
      "text/html": [
       "<div>\n",
       "<style scoped>\n",
       "    .dataframe tbody tr th:only-of-type {\n",
       "        vertical-align: middle;\n",
       "    }\n",
       "\n",
       "    .dataframe tbody tr th {\n",
       "        vertical-align: top;\n",
       "    }\n",
       "\n",
       "    .dataframe thead th {\n",
       "        text-align: right;\n",
       "    }\n",
       "</style>\n",
       "<table border=\"1\" class=\"dataframe\">\n",
       "  <thead>\n",
       "    <tr style=\"text-align: right;\">\n",
       "      <th></th>\n",
       "      <th>id</th>\n",
       "      <th>username</th>\n",
       "      <th>time_of_tweet</th>\n",
       "      <th>tweet</th>\n",
       "      <th>location</th>\n",
       "      <th>retweets</th>\n",
       "      <th>likes</th>\n",
       "      <th>followers</th>\n",
       "      <th>following</th>\n",
       "      <th>verified</th>\n",
       "      <th>tweet_source</th>\n",
       "      <th>hashtags</th>\n",
       "      <th>tweet_lowercase</th>\n",
       "      <th>tweet_track</th>\n",
       "    </tr>\n",
       "  </thead>\n",
       "  <tbody>\n",
       "    <tr>\n",
       "      <th>0</th>\n",
       "      <td>1552881884836859905</td>\n",
       "      <td>_Chrisss7</td>\n",
       "      <td>2022-07-29 05:01:07+00:00</td>\n",
       "      <td>Cozy is so cunt 😭🔥 #RENAISSANCE</td>\n",
       "      <td>904</td>\n",
       "      <td>0</td>\n",
       "      <td>0</td>\n",
       "      <td>396</td>\n",
       "      <td>391</td>\n",
       "      <td>False</td>\n",
       "      <td>Twitter for iPhone</td>\n",
       "      <td>#renaissance</td>\n",
       "      <td>cozy is so cunt 😭🔥 #renaissance</td>\n",
       "      <td>cozy is so cunt 😭🔥 #renaissance</td>\n",
       "    </tr>\n",
       "    <tr>\n",
       "      <th>1</th>\n",
       "      <td>1552881884782370817</td>\n",
       "      <td>anseldeangelo</td>\n",
       "      <td>2022-07-29 05:01:07+00:00</td>\n",
       "      <td>Listening to #RENAISSANCE high was one of the ...</td>\n",
       "      <td>Florida, USA</td>\n",
       "      <td>0</td>\n",
       "      <td>0</td>\n",
       "      <td>3101</td>\n",
       "      <td>728</td>\n",
       "      <td>False</td>\n",
       "      <td>Twitter for iPhone</td>\n",
       "      <td>#renaissance</td>\n",
       "      <td>listening to #renaissance high was one of the ...</td>\n",
       "      <td>listening to #renaissance high was one of the ...</td>\n",
       "    </tr>\n",
       "    <tr>\n",
       "      <th>2</th>\n",
       "      <td>1552881883389861889</td>\n",
       "      <td>juhdayyy</td>\n",
       "      <td>2022-07-29 05:01:06+00:00</td>\n",
       "      <td>i got 50-11 captions ready to go 🤭 #RENAISSANCE</td>\n",
       "      <td>757</td>\n",
       "      <td>0</td>\n",
       "      <td>0</td>\n",
       "      <td>639</td>\n",
       "      <td>584</td>\n",
       "      <td>False</td>\n",
       "      <td>Twitter for iPhone</td>\n",
       "      <td>#renaissance</td>\n",
       "      <td>i got 50-11 captions ready to go 🤭 #renaissance</td>\n",
       "      <td>i got 50-11 captions ready to go 🤭 #renaissance</td>\n",
       "    </tr>\n",
       "    <tr>\n",
       "      <th>3</th>\n",
       "      <td>1552881883217895424</td>\n",
       "      <td>sir_marcell</td>\n",
       "      <td>2022-07-29 05:01:06+00:00</td>\n",
       "      <td>Calling all singers!!!! The scales at the end ...</td>\n",
       "      <td>Atlanta, GA</td>\n",
       "      <td>0</td>\n",
       "      <td>1</td>\n",
       "      <td>773</td>\n",
       "      <td>460</td>\n",
       "      <td>False</td>\n",
       "      <td>Twitter for iPhone</td>\n",
       "      <td>#renaissance</td>\n",
       "      <td>calling all singers!!!! the scales at the end ...</td>\n",
       "      <td>calling all singers!!!! the scales at the end ...</td>\n",
       "    </tr>\n",
       "    <tr>\n",
       "      <th>4</th>\n",
       "      <td>1552881883205099520</td>\n",
       "      <td>JadedTyson</td>\n",
       "      <td>2022-07-29 05:01:06+00:00</td>\n",
       "      <td>PURE/HONEY unlocked the inner voguer that resi...</td>\n",
       "      <td>LA   He/They</td>\n",
       "      <td>0</td>\n",
       "      <td>2</td>\n",
       "      <td>252</td>\n",
       "      <td>232</td>\n",
       "      <td>False</td>\n",
       "      <td>Twitter for iPhone</td>\n",
       "      <td>#renaissance</td>\n",
       "      <td>pure/honey unlocked the inner voguer that resi...</td>\n",
       "      <td>pure/honey unlocked the inner voguer that resi...</td>\n",
       "    </tr>\n",
       "  </tbody>\n",
       "</table>\n",
       "</div>"
      ],
      "text/plain": [
       "                    id       username             time_of_tweet  \\\n",
       "0  1552881884836859905      _Chrisss7 2022-07-29 05:01:07+00:00   \n",
       "1  1552881884782370817  anseldeangelo 2022-07-29 05:01:07+00:00   \n",
       "2  1552881883389861889       juhdayyy 2022-07-29 05:01:06+00:00   \n",
       "3  1552881883217895424    sir_marcell 2022-07-29 05:01:06+00:00   \n",
       "4  1552881883205099520     JadedTyson 2022-07-29 05:01:06+00:00   \n",
       "\n",
       "                                               tweet      location  retweets  \\\n",
       "0                    Cozy is so cunt 😭🔥 #RENAISSANCE           904         0   \n",
       "1  Listening to #RENAISSANCE high was one of the ...  Florida, USA         0   \n",
       "2    i got 50-11 captions ready to go 🤭 #RENAISSANCE          757          0   \n",
       "3  Calling all singers!!!! The scales at the end ...   Atlanta, GA         0   \n",
       "4  PURE/HONEY unlocked the inner voguer that resi...  LA   He/They         0   \n",
       "\n",
       "   likes  followers  following  verified        tweet_source      hashtags  \\\n",
       "0      0        396        391     False  Twitter for iPhone  #renaissance   \n",
       "1      0       3101        728     False  Twitter for iPhone  #renaissance   \n",
       "2      0        639        584     False  Twitter for iPhone  #renaissance   \n",
       "3      1        773        460     False  Twitter for iPhone  #renaissance   \n",
       "4      2        252        232     False  Twitter for iPhone  #renaissance   \n",
       "\n",
       "                                     tweet_lowercase  \\\n",
       "0                    cozy is so cunt 😭🔥 #renaissance   \n",
       "1  listening to #renaissance high was one of the ...   \n",
       "2    i got 50-11 captions ready to go 🤭 #renaissance   \n",
       "3  calling all singers!!!! the scales at the end ...   \n",
       "4  pure/honey unlocked the inner voguer that resi...   \n",
       "\n",
       "                                         tweet_track  \n",
       "0                    cozy is so cunt 😭🔥 #renaissance  \n",
       "1  listening to #renaissance high was one of the ...  \n",
       "2    i got 50-11 captions ready to go 🤭 #renaissance  \n",
       "3  calling all singers!!!! the scales at the end ...  \n",
       "4  pure/honey unlocked the inner voguer that resi...  "
      ]
     },
     "execution_count": 41,
     "metadata": {},
     "output_type": "execute_result"
    }
   ],
   "source": [
    "# Define function to replace track names as one word track name in a new column tweet_track\n",
    "def trackNames(ren_track):\n",
    "    replacements = [(\"plastic off the sofa\",\"plasticoffthesofa\"), (\"i'm that girl\", \"i'mthatgirl\"), \n",
    "                    (\"im that girl\", \"i'mthatgirl\"),(\"alien superstar\", \"aliensuperstar\"), (\"cuff it\", \"cuffit\"), \n",
    "                    (\"break my soul\", \"breakmysoul\"), (\"church girl\", \"churchgirl\"), (\"virgo's groove\", \"virgo'sgroove\"), \n",
    "                    (\"virgo groove\", \"virgo'sgroove\"), (\"virgos groove\", \"virgo'sgroove\"), \n",
    "                    (\"all up in your mind\", \"allupinyourmind\"), (\"america has a problem\", \"americahasaproblem\"), \n",
    "                    (\"summer renaissance\", \"summerrenaissance\")]\n",
    "\n",
    "    for pat,repl in replacements:\n",
    "        ren_track = re.sub(pat, repl, ren_track)\n",
    "    return ren_track\n",
    "tweets_df['tweet_track'] = tweets_df['tweet_lowercase'].apply(trackNames)\n",
    "tweets_df.head()                      "
   ]
  },
  {
   "cell_type": "code",
   "execution_count": 42,
   "id": "5a107c71",
   "metadata": {},
   "outputs": [
    {
     "data": {
      "text/html": [
       "<pre>✔️ 0 ns (2022-08-11T23:08:17/2022-08-11T23:08:17)</pre>"
      ],
      "text/plain": [
       "<IPython.core.display.HTML object>"
      ]
     },
     "metadata": {},
     "output_type": "display_data"
    }
   ],
   "source": [
    "# Define function to extract Renaissance Track from each tweet_track\n",
    "def getRenaissanceTrack(tweet_track):\n",
    "    tweet_track = tweet_track.lower() #Reduces tweet to lower case\n",
    "    tweet_tokens = word_tokenize(tweet_track) #splits each word in tweet_track for parsing\n",
    "    ren_track = [char for char in tweet_tokens if char in renaissance_tracks] \n",
    "    return \" \".join(ren_track)"
   ]
  },
  {
   "cell_type": "code",
   "execution_count": 43,
   "id": "7bbd5499",
   "metadata": {},
   "outputs": [
    {
     "data": {
      "text/html": [
       "<pre>✔️ 1 min 8 s (2022-08-11T23:08:18/2022-08-11T23:09:26)</pre>"
      ],
      "text/plain": [
       "<IPython.core.display.HTML object>"
      ]
     },
     "metadata": {},
     "output_type": "display_data"
    },
    {
     "data": {
      "text/html": [
       "<div>\n",
       "<style scoped>\n",
       "    .dataframe tbody tr th:only-of-type {\n",
       "        vertical-align: middle;\n",
       "    }\n",
       "\n",
       "    .dataframe tbody tr th {\n",
       "        vertical-align: top;\n",
       "    }\n",
       "\n",
       "    .dataframe thead th {\n",
       "        text-align: right;\n",
       "    }\n",
       "</style>\n",
       "<table border=\"1\" class=\"dataframe\">\n",
       "  <thead>\n",
       "    <tr style=\"text-align: right;\">\n",
       "      <th></th>\n",
       "      <th>id</th>\n",
       "      <th>username</th>\n",
       "      <th>time_of_tweet</th>\n",
       "      <th>tweet</th>\n",
       "      <th>location</th>\n",
       "      <th>retweets</th>\n",
       "      <th>likes</th>\n",
       "      <th>followers</th>\n",
       "      <th>following</th>\n",
       "      <th>verified</th>\n",
       "      <th>tweet_source</th>\n",
       "      <th>hashtags</th>\n",
       "      <th>tweet_lowercase</th>\n",
       "      <th>tweet_track</th>\n",
       "      <th>track</th>\n",
       "    </tr>\n",
       "  </thead>\n",
       "  <tbody>\n",
       "    <tr>\n",
       "      <th>0</th>\n",
       "      <td>1552881884836859905</td>\n",
       "      <td>_Chrisss7</td>\n",
       "      <td>2022-07-29 05:01:07+00:00</td>\n",
       "      <td>Cozy is so cunt 😭🔥 #RENAISSANCE</td>\n",
       "      <td>904</td>\n",
       "      <td>0</td>\n",
       "      <td>0</td>\n",
       "      <td>396</td>\n",
       "      <td>391</td>\n",
       "      <td>False</td>\n",
       "      <td>Twitter for iPhone</td>\n",
       "      <td>#renaissance</td>\n",
       "      <td>cozy is so cunt 😭🔥 #renaissance</td>\n",
       "      <td>cozy is so cunt 😭🔥 #renaissance</td>\n",
       "      <td>cozy</td>\n",
       "    </tr>\n",
       "    <tr>\n",
       "      <th>1</th>\n",
       "      <td>1552881884782370817</td>\n",
       "      <td>anseldeangelo</td>\n",
       "      <td>2022-07-29 05:01:07+00:00</td>\n",
       "      <td>Listening to #RENAISSANCE high was one of the ...</td>\n",
       "      <td>Florida, USA</td>\n",
       "      <td>0</td>\n",
       "      <td>0</td>\n",
       "      <td>3101</td>\n",
       "      <td>728</td>\n",
       "      <td>False</td>\n",
       "      <td>Twitter for iPhone</td>\n",
       "      <td>#renaissance</td>\n",
       "      <td>listening to #renaissance high was one of the ...</td>\n",
       "      <td>listening to #renaissance high was one of the ...</td>\n",
       "      <td></td>\n",
       "    </tr>\n",
       "    <tr>\n",
       "      <th>2</th>\n",
       "      <td>1552881883389861889</td>\n",
       "      <td>juhdayyy</td>\n",
       "      <td>2022-07-29 05:01:06+00:00</td>\n",
       "      <td>i got 50-11 captions ready to go 🤭 #RENAISSANCE</td>\n",
       "      <td>757</td>\n",
       "      <td>0</td>\n",
       "      <td>0</td>\n",
       "      <td>639</td>\n",
       "      <td>584</td>\n",
       "      <td>False</td>\n",
       "      <td>Twitter for iPhone</td>\n",
       "      <td>#renaissance</td>\n",
       "      <td>i got 50-11 captions ready to go 🤭 #renaissance</td>\n",
       "      <td>i got 50-11 captions ready to go 🤭 #renaissance</td>\n",
       "      <td></td>\n",
       "    </tr>\n",
       "    <tr>\n",
       "      <th>3</th>\n",
       "      <td>1552881883217895424</td>\n",
       "      <td>sir_marcell</td>\n",
       "      <td>2022-07-29 05:01:06+00:00</td>\n",
       "      <td>Calling all singers!!!! The scales at the end ...</td>\n",
       "      <td>Atlanta, GA</td>\n",
       "      <td>0</td>\n",
       "      <td>1</td>\n",
       "      <td>773</td>\n",
       "      <td>460</td>\n",
       "      <td>False</td>\n",
       "      <td>Twitter for iPhone</td>\n",
       "      <td>#renaissance</td>\n",
       "      <td>calling all singers!!!! the scales at the end ...</td>\n",
       "      <td>calling all singers!!!! the scales at the end ...</td>\n",
       "      <td>plasticoffthesofa</td>\n",
       "    </tr>\n",
       "    <tr>\n",
       "      <th>4</th>\n",
       "      <td>1552881883205099520</td>\n",
       "      <td>JadedTyson</td>\n",
       "      <td>2022-07-29 05:01:06+00:00</td>\n",
       "      <td>PURE/HONEY unlocked the inner voguer that resi...</td>\n",
       "      <td>LA   He/They</td>\n",
       "      <td>0</td>\n",
       "      <td>2</td>\n",
       "      <td>252</td>\n",
       "      <td>232</td>\n",
       "      <td>False</td>\n",
       "      <td>Twitter for iPhone</td>\n",
       "      <td>#renaissance</td>\n",
       "      <td>pure/honey unlocked the inner voguer that resi...</td>\n",
       "      <td>pure/honey unlocked the inner voguer that resi...</td>\n",
       "      <td>pure/honey</td>\n",
       "    </tr>\n",
       "  </tbody>\n",
       "</table>\n",
       "</div>"
      ],
      "text/plain": [
       "                    id       username             time_of_tweet  \\\n",
       "0  1552881884836859905      _Chrisss7 2022-07-29 05:01:07+00:00   \n",
       "1  1552881884782370817  anseldeangelo 2022-07-29 05:01:07+00:00   \n",
       "2  1552881883389861889       juhdayyy 2022-07-29 05:01:06+00:00   \n",
       "3  1552881883217895424    sir_marcell 2022-07-29 05:01:06+00:00   \n",
       "4  1552881883205099520     JadedTyson 2022-07-29 05:01:06+00:00   \n",
       "\n",
       "                                               tweet      location  retweets  \\\n",
       "0                    Cozy is so cunt 😭🔥 #RENAISSANCE           904         0   \n",
       "1  Listening to #RENAISSANCE high was one of the ...  Florida, USA         0   \n",
       "2    i got 50-11 captions ready to go 🤭 #RENAISSANCE          757          0   \n",
       "3  Calling all singers!!!! The scales at the end ...   Atlanta, GA         0   \n",
       "4  PURE/HONEY unlocked the inner voguer that resi...  LA   He/They         0   \n",
       "\n",
       "   likes  followers  following  verified        tweet_source      hashtags  \\\n",
       "0      0        396        391     False  Twitter for iPhone  #renaissance   \n",
       "1      0       3101        728     False  Twitter for iPhone  #renaissance   \n",
       "2      0        639        584     False  Twitter for iPhone  #renaissance   \n",
       "3      1        773        460     False  Twitter for iPhone  #renaissance   \n",
       "4      2        252        232     False  Twitter for iPhone  #renaissance   \n",
       "\n",
       "                                     tweet_lowercase  \\\n",
       "0                    cozy is so cunt 😭🔥 #renaissance   \n",
       "1  listening to #renaissance high was one of the ...   \n",
       "2    i got 50-11 captions ready to go 🤭 #renaissance   \n",
       "3  calling all singers!!!! the scales at the end ...   \n",
       "4  pure/honey unlocked the inner voguer that resi...   \n",
       "\n",
       "                                         tweet_track              track  \n",
       "0                    cozy is so cunt 😭🔥 #renaissance               cozy  \n",
       "1  listening to #renaissance high was one of the ...                     \n",
       "2    i got 50-11 captions ready to go 🤭 #renaissance                     \n",
       "3  calling all singers!!!! the scales at the end ...  plasticoffthesofa  \n",
       "4  pure/honey unlocked the inner voguer that resi...         pure/honey  "
      ]
     },
     "execution_count": 43,
     "metadata": {},
     "output_type": "execute_result"
    }
   ],
   "source": [
    "# Extract tracks to a new column\n",
    "tweets_df['track'] = tweets_df['tweet_track'].apply(getRenaissanceTrack)\n",
    "tweets_df.head()"
   ]
  },
  {
   "cell_type": "code",
   "execution_count": 44,
   "id": "855450dc",
   "metadata": {},
   "outputs": [
    {
     "data": {
      "text/html": [
       "<pre>✔️ 219 ms (2022-08-11T23:09:26/2022-08-11T23:09:26)</pre>"
      ],
      "text/plain": [
       "<IPython.core.display.HTML object>"
      ]
     },
     "metadata": {},
     "output_type": "display_data"
    },
    {
     "name": "stdout",
     "output_type": "stream",
     "text": [
      "The Total Number of Unique Tracks is:  16\n"
     ]
    },
    {
     "data": {
      "text/html": [
       "<div>\n",
       "<style scoped>\n",
       "    .dataframe tbody tr th:only-of-type {\n",
       "        vertical-align: middle;\n",
       "    }\n",
       "\n",
       "    .dataframe tbody tr th {\n",
       "        vertical-align: top;\n",
       "    }\n",
       "\n",
       "    .dataframe thead th {\n",
       "        text-align: right;\n",
       "    }\n",
       "</style>\n",
       "<table border=\"1\" class=\"dataframe\">\n",
       "  <thead>\n",
       "    <tr style=\"text-align: right;\">\n",
       "      <th></th>\n",
       "      <th>Ren_track</th>\n",
       "      <th>Count</th>\n",
       "    </tr>\n",
       "  </thead>\n",
       "  <tbody>\n",
       "    <tr>\n",
       "      <th>13</th>\n",
       "      <td>churchgirl</td>\n",
       "      <td>7170</td>\n",
       "    </tr>\n",
       "    <tr>\n",
       "      <th>4</th>\n",
       "      <td>aliensuperstar</td>\n",
       "      <td>6835</td>\n",
       "    </tr>\n",
       "    <tr>\n",
       "      <th>9</th>\n",
       "      <td>cuffit</td>\n",
       "      <td>6417</td>\n",
       "    </tr>\n",
       "    <tr>\n",
       "      <th>7</th>\n",
       "      <td>energy</td>\n",
       "      <td>4702</td>\n",
       "    </tr>\n",
       "    <tr>\n",
       "      <th>8</th>\n",
       "      <td>breakmysoul</td>\n",
       "      <td>4626</td>\n",
       "    </tr>\n",
       "    <tr>\n",
       "      <th>11</th>\n",
       "      <td>heated</td>\n",
       "      <td>4365</td>\n",
       "    </tr>\n",
       "    <tr>\n",
       "      <th>0</th>\n",
       "      <td>cozy</td>\n",
       "      <td>4338</td>\n",
       "    </tr>\n",
       "    <tr>\n",
       "      <th>12</th>\n",
       "      <td>move</td>\n",
       "      <td>3656</td>\n",
       "    </tr>\n",
       "    <tr>\n",
       "      <th>1</th>\n",
       "      <td>plasticoffthesofa</td>\n",
       "      <td>3358</td>\n",
       "    </tr>\n",
       "    <tr>\n",
       "      <th>14</th>\n",
       "      <td>thique</td>\n",
       "      <td>3151</td>\n",
       "    </tr>\n",
       "    <tr>\n",
       "      <th>2</th>\n",
       "      <td>pure/honey</td>\n",
       "      <td>2854</td>\n",
       "    </tr>\n",
       "    <tr>\n",
       "      <th>10</th>\n",
       "      <td>summerrenaissance</td>\n",
       "      <td>2331</td>\n",
       "    </tr>\n",
       "    <tr>\n",
       "      <th>6</th>\n",
       "      <td>virgo'sgroove</td>\n",
       "      <td>1999</td>\n",
       "    </tr>\n",
       "    <tr>\n",
       "      <th>5</th>\n",
       "      <td>americahasaproblem</td>\n",
       "      <td>1998</td>\n",
       "    </tr>\n",
       "    <tr>\n",
       "      <th>3</th>\n",
       "      <td>allupinyourmind</td>\n",
       "      <td>1773</td>\n",
       "    </tr>\n",
       "    <tr>\n",
       "      <th>15</th>\n",
       "      <td>i'mthatgirl</td>\n",
       "      <td>1129</td>\n",
       "    </tr>\n",
       "  </tbody>\n",
       "</table>\n",
       "</div>"
      ],
      "text/plain": [
       "             Ren_track  Count\n",
       "13          churchgirl   7170\n",
       "4       aliensuperstar   6835\n",
       "9               cuffit   6417\n",
       "7               energy   4702\n",
       "8          breakmysoul   4626\n",
       "11              heated   4365\n",
       "0                 cozy   4338\n",
       "12                move   3656\n",
       "1    plasticoffthesofa   3358\n",
       "14              thique   3151\n",
       "2           pure/honey   2854\n",
       "10   summerrenaissance   2331\n",
       "6        virgo'sgroove   1999\n",
       "5   americahasaproblem   1998\n",
       "3      allupinyourmind   1773\n",
       "15         i'mthatgirl   1129"
      ]
     },
     "execution_count": 44,
     "metadata": {},
     "output_type": "execute_result"
    }
   ],
   "source": [
    "# Store track in a list\n",
    "track_list = tweets_df['track'].tolist()\n",
    "\n",
    "# Iterate over all track names and split where there is more than one track\n",
    "track = []\n",
    "for item in track_list:\n",
    "    item = item.split()\n",
    "    for i in item:\n",
    "        track.append(i)\n",
    "\n",
    "# Determine Unique count of all track\n",
    "counts = Counter(track)\n",
    "track_df = pd.DataFrame.from_dict(counts, orient='index').reset_index()\n",
    "track_df.columns = ['Ren_track', 'Count']\n",
    "track_df.sort_values(by='Count', ascending=False, inplace=True)\n",
    "print(\"The Total Number of Unique Tracks is: \", track_df.shape[0])\n",
    "track_df"
   ]
  },
  {
   "cell_type": "code",
   "execution_count": 45,
   "id": "b8f58e7a",
   "metadata": {},
   "outputs": [
    {
     "data": {
      "text/html": [
       "<pre>✔️ 78 ms (2022-08-11T23:09:26/2022-08-11T23:09:26)</pre>"
      ],
      "text/plain": [
       "<IPython.core.display.HTML object>"
      ]
     },
     "metadata": {},
     "output_type": "display_data"
    }
   ],
   "source": [
    "# Saving Track df to csv file\n",
    "track_df.to_csv('Ren_Track.csv')"
   ]
  },
  {
   "cell_type": "code",
   "execution_count": 46,
   "id": "df1a9db0",
   "metadata": {},
   "outputs": [
    {
     "data": {
      "text/html": [
       "<pre>✔️ 250 ms (2022-08-11T23:09:26/2022-08-11T23:09:27)</pre>"
      ],
      "text/plain": [
       "<IPython.core.display.HTML object>"
      ]
     },
     "metadata": {},
     "output_type": "display_data"
    }
   ],
   "source": [
    "# Creating a list of Positive words about the album\n",
    "renaissance_positive_words = [\"noskips\", \"noshuffles\", \"vocals\", \"lyrics\", \"beats\", \"production\", \n",
    "                     \"samples\", \"harmonies\"]"
   ]
  },
  {
   "cell_type": "code",
   "execution_count": 47,
   "id": "08693bc8",
   "metadata": {},
   "outputs": [
    {
     "data": {
      "text/html": [
       "<pre>✔️ 7.31 s (2022-08-11T23:09:27/2022-08-11T23:09:34)</pre>"
      ],
      "text/plain": [
       "<IPython.core.display.HTML object>"
      ]
     },
     "metadata": {},
     "output_type": "display_data"
    },
    {
     "data": {
      "text/html": [
       "<div>\n",
       "<style scoped>\n",
       "    .dataframe tbody tr th:only-of-type {\n",
       "        vertical-align: middle;\n",
       "    }\n",
       "\n",
       "    .dataframe tbody tr th {\n",
       "        vertical-align: top;\n",
       "    }\n",
       "\n",
       "    .dataframe thead th {\n",
       "        text-align: right;\n",
       "    }\n",
       "</style>\n",
       "<table border=\"1\" class=\"dataframe\">\n",
       "  <thead>\n",
       "    <tr style=\"text-align: right;\">\n",
       "      <th></th>\n",
       "      <th>id</th>\n",
       "      <th>username</th>\n",
       "      <th>time_of_tweet</th>\n",
       "      <th>tweet</th>\n",
       "      <th>location</th>\n",
       "      <th>retweets</th>\n",
       "      <th>likes</th>\n",
       "      <th>followers</th>\n",
       "      <th>following</th>\n",
       "      <th>verified</th>\n",
       "      <th>tweet_source</th>\n",
       "      <th>hashtags</th>\n",
       "      <th>tweet_lowercase</th>\n",
       "      <th>tweet_track</th>\n",
       "      <th>track</th>\n",
       "      <th>tweet_positive_words</th>\n",
       "    </tr>\n",
       "  </thead>\n",
       "  <tbody>\n",
       "    <tr>\n",
       "      <th>0</th>\n",
       "      <td>1552881884836859905</td>\n",
       "      <td>_Chrisss7</td>\n",
       "      <td>2022-07-29 05:01:07+00:00</td>\n",
       "      <td>Cozy is so cunt 😭🔥 #RENAISSANCE</td>\n",
       "      <td>904</td>\n",
       "      <td>0</td>\n",
       "      <td>0</td>\n",
       "      <td>396</td>\n",
       "      <td>391</td>\n",
       "      <td>False</td>\n",
       "      <td>Twitter for iPhone</td>\n",
       "      <td>#renaissance</td>\n",
       "      <td>cozy is so cunt 😭🔥 #renaissance</td>\n",
       "      <td>cozy is so cunt 😭🔥 #renaissance</td>\n",
       "      <td>cozy</td>\n",
       "      <td>cozy is so cunt 😭🔥 #renaissance</td>\n",
       "    </tr>\n",
       "    <tr>\n",
       "      <th>1</th>\n",
       "      <td>1552881884782370817</td>\n",
       "      <td>anseldeangelo</td>\n",
       "      <td>2022-07-29 05:01:07+00:00</td>\n",
       "      <td>Listening to #RENAISSANCE high was one of the ...</td>\n",
       "      <td>Florida, USA</td>\n",
       "      <td>0</td>\n",
       "      <td>0</td>\n",
       "      <td>3101</td>\n",
       "      <td>728</td>\n",
       "      <td>False</td>\n",
       "      <td>Twitter for iPhone</td>\n",
       "      <td>#renaissance</td>\n",
       "      <td>listening to #renaissance high was one of the ...</td>\n",
       "      <td>listening to #renaissance high was one of the ...</td>\n",
       "      <td></td>\n",
       "      <td>listening to #renaissance high was one of the ...</td>\n",
       "    </tr>\n",
       "    <tr>\n",
       "      <th>2</th>\n",
       "      <td>1552881883389861889</td>\n",
       "      <td>juhdayyy</td>\n",
       "      <td>2022-07-29 05:01:06+00:00</td>\n",
       "      <td>i got 50-11 captions ready to go 🤭 #RENAISSANCE</td>\n",
       "      <td>757</td>\n",
       "      <td>0</td>\n",
       "      <td>0</td>\n",
       "      <td>639</td>\n",
       "      <td>584</td>\n",
       "      <td>False</td>\n",
       "      <td>Twitter for iPhone</td>\n",
       "      <td>#renaissance</td>\n",
       "      <td>i got 50-11 captions ready to go 🤭 #renaissance</td>\n",
       "      <td>i got 50-11 captions ready to go 🤭 #renaissance</td>\n",
       "      <td></td>\n",
       "      <td>i got 50-11 captions ready to go 🤭 #renaissance</td>\n",
       "    </tr>\n",
       "    <tr>\n",
       "      <th>3</th>\n",
       "      <td>1552881883217895424</td>\n",
       "      <td>sir_marcell</td>\n",
       "      <td>2022-07-29 05:01:06+00:00</td>\n",
       "      <td>Calling all singers!!!! The scales at the end ...</td>\n",
       "      <td>Atlanta, GA</td>\n",
       "      <td>0</td>\n",
       "      <td>1</td>\n",
       "      <td>773</td>\n",
       "      <td>460</td>\n",
       "      <td>False</td>\n",
       "      <td>Twitter for iPhone</td>\n",
       "      <td>#renaissance</td>\n",
       "      <td>calling all singers!!!! the scales at the end ...</td>\n",
       "      <td>calling all singers!!!! the scales at the end ...</td>\n",
       "      <td>plasticoffthesofa</td>\n",
       "      <td>calling all singers!!!! the scales at the end ...</td>\n",
       "    </tr>\n",
       "    <tr>\n",
       "      <th>4</th>\n",
       "      <td>1552881883205099520</td>\n",
       "      <td>JadedTyson</td>\n",
       "      <td>2022-07-29 05:01:06+00:00</td>\n",
       "      <td>PURE/HONEY unlocked the inner voguer that resi...</td>\n",
       "      <td>LA   He/They</td>\n",
       "      <td>0</td>\n",
       "      <td>2</td>\n",
       "      <td>252</td>\n",
       "      <td>232</td>\n",
       "      <td>False</td>\n",
       "      <td>Twitter for iPhone</td>\n",
       "      <td>#renaissance</td>\n",
       "      <td>pure/honey unlocked the inner voguer that resi...</td>\n",
       "      <td>pure/honey unlocked the inner voguer that resi...</td>\n",
       "      <td>pure/honey</td>\n",
       "      <td>pure/honey unlocked the inner voguer that resi...</td>\n",
       "    </tr>\n",
       "  </tbody>\n",
       "</table>\n",
       "</div>"
      ],
      "text/plain": [
       "                    id       username             time_of_tweet  \\\n",
       "0  1552881884836859905      _Chrisss7 2022-07-29 05:01:07+00:00   \n",
       "1  1552881884782370817  anseldeangelo 2022-07-29 05:01:07+00:00   \n",
       "2  1552881883389861889       juhdayyy 2022-07-29 05:01:06+00:00   \n",
       "3  1552881883217895424    sir_marcell 2022-07-29 05:01:06+00:00   \n",
       "4  1552881883205099520     JadedTyson 2022-07-29 05:01:06+00:00   \n",
       "\n",
       "                                               tweet      location  retweets  \\\n",
       "0                    Cozy is so cunt 😭🔥 #RENAISSANCE           904         0   \n",
       "1  Listening to #RENAISSANCE high was one of the ...  Florida, USA         0   \n",
       "2    i got 50-11 captions ready to go 🤭 #RENAISSANCE          757          0   \n",
       "3  Calling all singers!!!! The scales at the end ...   Atlanta, GA         0   \n",
       "4  PURE/HONEY unlocked the inner voguer that resi...  LA   He/They         0   \n",
       "\n",
       "   likes  followers  following  verified        tweet_source      hashtags  \\\n",
       "0      0        396        391     False  Twitter for iPhone  #renaissance   \n",
       "1      0       3101        728     False  Twitter for iPhone  #renaissance   \n",
       "2      0        639        584     False  Twitter for iPhone  #renaissance   \n",
       "3      1        773        460     False  Twitter for iPhone  #renaissance   \n",
       "4      2        252        232     False  Twitter for iPhone  #renaissance   \n",
       "\n",
       "                                     tweet_lowercase  \\\n",
       "0                    cozy is so cunt 😭🔥 #renaissance   \n",
       "1  listening to #renaissance high was one of the ...   \n",
       "2    i got 50-11 captions ready to go 🤭 #renaissance   \n",
       "3  calling all singers!!!! the scales at the end ...   \n",
       "4  pure/honey unlocked the inner voguer that resi...   \n",
       "\n",
       "                                         tweet_track              track  \\\n",
       "0                    cozy is so cunt 😭🔥 #renaissance               cozy   \n",
       "1  listening to #renaissance high was one of the ...                      \n",
       "2    i got 50-11 captions ready to go 🤭 #renaissance                      \n",
       "3  calling all singers!!!! the scales at the end ...  plasticoffthesofa   \n",
       "4  pure/honey unlocked the inner voguer that resi...         pure/honey   \n",
       "\n",
       "                                tweet_positive_words  \n",
       "0                    cozy is so cunt 😭🔥 #renaissance  \n",
       "1  listening to #renaissance high was one of the ...  \n",
       "2    i got 50-11 captions ready to go 🤭 #renaissance  \n",
       "3  calling all singers!!!! the scales at the end ...  \n",
       "4  pure/honey unlocked the inner voguer that resi...  "
      ]
     },
     "execution_count": 47,
     "metadata": {},
     "output_type": "execute_result"
    }
   ],
   "source": [
    "# Define function to replace Positive words as one word Positive words in a new column tweet_positive_words\n",
    "def positiveWords(ren_positive_words):\n",
    "    replacements = [(\"no skips\",\"noskips\"), (\"zero skips\", \"noskips\"), (\"0 skips\", \"noskips\"), (\"no shuffle\", \"noshuffles\"), \n",
    "                    (\"no shuffles\", \"noshuffles\")]\n",
    "    for pat,repl in replacements:\n",
    "        ren_positive_words = re.sub(pat, repl, ren_positive_words)\n",
    "    return ren_positive_words\n",
    "tweets_df['tweet_positive_words'] = tweets_df['tweet_lowercase'].apply(positiveWords)\n",
    "tweets_df.head()"
   ]
  },
  {
   "cell_type": "code",
   "execution_count": 48,
   "id": "0fc5d98c",
   "metadata": {},
   "outputs": [
    {
     "data": {
      "text/html": [
       "<pre>✔️ 0 ns (2022-08-11T23:09:34/2022-08-11T23:09:34)</pre>"
      ],
      "text/plain": [
       "<IPython.core.display.HTML object>"
      ]
     },
     "metadata": {},
     "output_type": "display_data"
    }
   ],
   "source": [
    "# Define function to extract Positive words from each Tweet\n",
    "def getPositiveWord(tweet_positive_words):\n",
    "    tweet_positive_words = tweet_positive_words.lower() #Reduces tweet to lower case\n",
    "    tweet_tokens = word_tokenize(tweet_positive_words) #splits each word in tweet_track for parsing\n",
    "    ren_positive_words = [char for char in tweet_tokens if char in renaissance_positive_words] \n",
    "    return \" \".join(ren_positive_words)"
   ]
  },
  {
   "cell_type": "code",
   "execution_count": 49,
   "id": "d8eb9dcf",
   "metadata": {},
   "outputs": [
    {
     "data": {
      "text/html": [
       "<pre>✔️ 1 min 4 s (2022-08-11T23:09:35/2022-08-11T23:10:39)</pre>"
      ],
      "text/plain": [
       "<IPython.core.display.HTML object>"
      ]
     },
     "metadata": {},
     "output_type": "display_data"
    },
    {
     "data": {
      "text/html": [
       "<div>\n",
       "<style scoped>\n",
       "    .dataframe tbody tr th:only-of-type {\n",
       "        vertical-align: middle;\n",
       "    }\n",
       "\n",
       "    .dataframe tbody tr th {\n",
       "        vertical-align: top;\n",
       "    }\n",
       "\n",
       "    .dataframe thead th {\n",
       "        text-align: right;\n",
       "    }\n",
       "</style>\n",
       "<table border=\"1\" class=\"dataframe\">\n",
       "  <thead>\n",
       "    <tr style=\"text-align: right;\">\n",
       "      <th></th>\n",
       "      <th>id</th>\n",
       "      <th>username</th>\n",
       "      <th>time_of_tweet</th>\n",
       "      <th>tweet</th>\n",
       "      <th>location</th>\n",
       "      <th>retweets</th>\n",
       "      <th>likes</th>\n",
       "      <th>followers</th>\n",
       "      <th>following</th>\n",
       "      <th>verified</th>\n",
       "      <th>tweet_source</th>\n",
       "      <th>hashtags</th>\n",
       "      <th>tweet_lowercase</th>\n",
       "      <th>tweet_track</th>\n",
       "      <th>track</th>\n",
       "      <th>tweet_positive_words</th>\n",
       "      <th>positive_words</th>\n",
       "    </tr>\n",
       "  </thead>\n",
       "  <tbody>\n",
       "    <tr>\n",
       "      <th>0</th>\n",
       "      <td>1552881884836859905</td>\n",
       "      <td>_Chrisss7</td>\n",
       "      <td>2022-07-29 05:01:07+00:00</td>\n",
       "      <td>Cozy is so cunt 😭🔥 #RENAISSANCE</td>\n",
       "      <td>904</td>\n",
       "      <td>0</td>\n",
       "      <td>0</td>\n",
       "      <td>396</td>\n",
       "      <td>391</td>\n",
       "      <td>False</td>\n",
       "      <td>Twitter for iPhone</td>\n",
       "      <td>#renaissance</td>\n",
       "      <td>cozy is so cunt 😭🔥 #renaissance</td>\n",
       "      <td>cozy is so cunt 😭🔥 #renaissance</td>\n",
       "      <td>cozy</td>\n",
       "      <td>cozy is so cunt 😭🔥 #renaissance</td>\n",
       "      <td></td>\n",
       "    </tr>\n",
       "    <tr>\n",
       "      <th>1</th>\n",
       "      <td>1552881884782370817</td>\n",
       "      <td>anseldeangelo</td>\n",
       "      <td>2022-07-29 05:01:07+00:00</td>\n",
       "      <td>Listening to #RENAISSANCE high was one of the ...</td>\n",
       "      <td>Florida, USA</td>\n",
       "      <td>0</td>\n",
       "      <td>0</td>\n",
       "      <td>3101</td>\n",
       "      <td>728</td>\n",
       "      <td>False</td>\n",
       "      <td>Twitter for iPhone</td>\n",
       "      <td>#renaissance</td>\n",
       "      <td>listening to #renaissance high was one of the ...</td>\n",
       "      <td>listening to #renaissance high was one of the ...</td>\n",
       "      <td></td>\n",
       "      <td>listening to #renaissance high was one of the ...</td>\n",
       "      <td></td>\n",
       "    </tr>\n",
       "    <tr>\n",
       "      <th>2</th>\n",
       "      <td>1552881883389861889</td>\n",
       "      <td>juhdayyy</td>\n",
       "      <td>2022-07-29 05:01:06+00:00</td>\n",
       "      <td>i got 50-11 captions ready to go 🤭 #RENAISSANCE</td>\n",
       "      <td>757</td>\n",
       "      <td>0</td>\n",
       "      <td>0</td>\n",
       "      <td>639</td>\n",
       "      <td>584</td>\n",
       "      <td>False</td>\n",
       "      <td>Twitter for iPhone</td>\n",
       "      <td>#renaissance</td>\n",
       "      <td>i got 50-11 captions ready to go 🤭 #renaissance</td>\n",
       "      <td>i got 50-11 captions ready to go 🤭 #renaissance</td>\n",
       "      <td></td>\n",
       "      <td>i got 50-11 captions ready to go 🤭 #renaissance</td>\n",
       "      <td></td>\n",
       "    </tr>\n",
       "    <tr>\n",
       "      <th>3</th>\n",
       "      <td>1552881883217895424</td>\n",
       "      <td>sir_marcell</td>\n",
       "      <td>2022-07-29 05:01:06+00:00</td>\n",
       "      <td>Calling all singers!!!! The scales at the end ...</td>\n",
       "      <td>Atlanta, GA</td>\n",
       "      <td>0</td>\n",
       "      <td>1</td>\n",
       "      <td>773</td>\n",
       "      <td>460</td>\n",
       "      <td>False</td>\n",
       "      <td>Twitter for iPhone</td>\n",
       "      <td>#renaissance</td>\n",
       "      <td>calling all singers!!!! the scales at the end ...</td>\n",
       "      <td>calling all singers!!!! the scales at the end ...</td>\n",
       "      <td>plasticoffthesofa</td>\n",
       "      <td>calling all singers!!!! the scales at the end ...</td>\n",
       "      <td></td>\n",
       "    </tr>\n",
       "    <tr>\n",
       "      <th>4</th>\n",
       "      <td>1552881883205099520</td>\n",
       "      <td>JadedTyson</td>\n",
       "      <td>2022-07-29 05:01:06+00:00</td>\n",
       "      <td>PURE/HONEY unlocked the inner voguer that resi...</td>\n",
       "      <td>LA   He/They</td>\n",
       "      <td>0</td>\n",
       "      <td>2</td>\n",
       "      <td>252</td>\n",
       "      <td>232</td>\n",
       "      <td>False</td>\n",
       "      <td>Twitter for iPhone</td>\n",
       "      <td>#renaissance</td>\n",
       "      <td>pure/honey unlocked the inner voguer that resi...</td>\n",
       "      <td>pure/honey unlocked the inner voguer that resi...</td>\n",
       "      <td>pure/honey</td>\n",
       "      <td>pure/honey unlocked the inner voguer that resi...</td>\n",
       "      <td></td>\n",
       "    </tr>\n",
       "  </tbody>\n",
       "</table>\n",
       "</div>"
      ],
      "text/plain": [
       "                    id       username             time_of_tweet  \\\n",
       "0  1552881884836859905      _Chrisss7 2022-07-29 05:01:07+00:00   \n",
       "1  1552881884782370817  anseldeangelo 2022-07-29 05:01:07+00:00   \n",
       "2  1552881883389861889       juhdayyy 2022-07-29 05:01:06+00:00   \n",
       "3  1552881883217895424    sir_marcell 2022-07-29 05:01:06+00:00   \n",
       "4  1552881883205099520     JadedTyson 2022-07-29 05:01:06+00:00   \n",
       "\n",
       "                                               tweet      location  retweets  \\\n",
       "0                    Cozy is so cunt 😭🔥 #RENAISSANCE           904         0   \n",
       "1  Listening to #RENAISSANCE high was one of the ...  Florida, USA         0   \n",
       "2    i got 50-11 captions ready to go 🤭 #RENAISSANCE          757          0   \n",
       "3  Calling all singers!!!! The scales at the end ...   Atlanta, GA         0   \n",
       "4  PURE/HONEY unlocked the inner voguer that resi...  LA   He/They         0   \n",
       "\n",
       "   likes  followers  following  verified        tweet_source      hashtags  \\\n",
       "0      0        396        391     False  Twitter for iPhone  #renaissance   \n",
       "1      0       3101        728     False  Twitter for iPhone  #renaissance   \n",
       "2      0        639        584     False  Twitter for iPhone  #renaissance   \n",
       "3      1        773        460     False  Twitter for iPhone  #renaissance   \n",
       "4      2        252        232     False  Twitter for iPhone  #renaissance   \n",
       "\n",
       "                                     tweet_lowercase  \\\n",
       "0                    cozy is so cunt 😭🔥 #renaissance   \n",
       "1  listening to #renaissance high was one of the ...   \n",
       "2    i got 50-11 captions ready to go 🤭 #renaissance   \n",
       "3  calling all singers!!!! the scales at the end ...   \n",
       "4  pure/honey unlocked the inner voguer that resi...   \n",
       "\n",
       "                                         tweet_track              track  \\\n",
       "0                    cozy is so cunt 😭🔥 #renaissance               cozy   \n",
       "1  listening to #renaissance high was one of the ...                      \n",
       "2    i got 50-11 captions ready to go 🤭 #renaissance                      \n",
       "3  calling all singers!!!! the scales at the end ...  plasticoffthesofa   \n",
       "4  pure/honey unlocked the inner voguer that resi...         pure/honey   \n",
       "\n",
       "                                tweet_positive_words positive_words  \n",
       "0                    cozy is so cunt 😭🔥 #renaissance                 \n",
       "1  listening to #renaissance high was one of the ...                 \n",
       "2    i got 50-11 captions ready to go 🤭 #renaissance                 \n",
       "3  calling all singers!!!! the scales at the end ...                 \n",
       "4  pure/honey unlocked the inner voguer that resi...                 "
      ]
     },
     "execution_count": 49,
     "metadata": {},
     "output_type": "execute_result"
    }
   ],
   "source": [
    "# Extract Positive words to a new column\n",
    "tweets_df['positive_words'] = tweets_df['tweet_positive_words'].apply(getPositiveWord)\n",
    "tweets_df.head()"
   ]
  },
  {
   "cell_type": "code",
   "execution_count": 50,
   "id": "f12e30e6",
   "metadata": {},
   "outputs": [
    {
     "data": {
      "text/html": [
       "<pre>✔️ 79 ms (2022-08-11T23:10:40/2022-08-11T23:10:40)</pre>"
      ],
      "text/plain": [
       "<IPython.core.display.HTML object>"
      ]
     },
     "metadata": {},
     "output_type": "display_data"
    },
    {
     "data": {
      "text/html": [
       "<div>\n",
       "<style scoped>\n",
       "    .dataframe tbody tr th:only-of-type {\n",
       "        vertical-align: middle;\n",
       "    }\n",
       "\n",
       "    .dataframe tbody tr th {\n",
       "        vertical-align: top;\n",
       "    }\n",
       "\n",
       "    .dataframe thead th {\n",
       "        text-align: right;\n",
       "    }\n",
       "</style>\n",
       "<table border=\"1\" class=\"dataframe\">\n",
       "  <thead>\n",
       "    <tr style=\"text-align: right;\">\n",
       "      <th></th>\n",
       "      <th>Positive_Words</th>\n",
       "      <th>Count</th>\n",
       "    </tr>\n",
       "  </thead>\n",
       "  <tbody>\n",
       "    <tr>\n",
       "      <th>2</th>\n",
       "      <td>vocals</td>\n",
       "      <td>1241</td>\n",
       "    </tr>\n",
       "    <tr>\n",
       "      <th>4</th>\n",
       "      <td>lyrics</td>\n",
       "      <td>837</td>\n",
       "    </tr>\n",
       "    <tr>\n",
       "      <th>3</th>\n",
       "      <td>production</td>\n",
       "      <td>608</td>\n",
       "    </tr>\n",
       "    <tr>\n",
       "      <th>0</th>\n",
       "      <td>noskips</td>\n",
       "      <td>525</td>\n",
       "    </tr>\n",
       "    <tr>\n",
       "      <th>5</th>\n",
       "      <td>beats</td>\n",
       "      <td>299</td>\n",
       "    </tr>\n",
       "    <tr>\n",
       "      <th>1</th>\n",
       "      <td>harmonies</td>\n",
       "      <td>251</td>\n",
       "    </tr>\n",
       "    <tr>\n",
       "      <th>6</th>\n",
       "      <td>samples</td>\n",
       "      <td>191</td>\n",
       "    </tr>\n",
       "    <tr>\n",
       "      <th>7</th>\n",
       "      <td>noshuffles</td>\n",
       "      <td>13</td>\n",
       "    </tr>\n",
       "  </tbody>\n",
       "</table>\n",
       "</div>"
      ],
      "text/plain": [
       "  Positive_Words  Count\n",
       "2         vocals   1241\n",
       "4         lyrics    837\n",
       "3     production    608\n",
       "0        noskips    525\n",
       "5          beats    299\n",
       "1      harmonies    251\n",
       "6        samples    191\n",
       "7     noshuffles     13"
      ]
     },
     "execution_count": 50,
     "metadata": {},
     "output_type": "execute_result"
    }
   ],
   "source": [
    "# Store positive words in a list\n",
    "pos_list = tweets_df['positive_words'].tolist()\n",
    "\n",
    "# Iterate over all cast names and split where there is more than one cast\n",
    "pos = []\n",
    "for item in pos_list:\n",
    "    item = item.split()\n",
    "    for i in item:\n",
    "        pos.append(i)\n",
    "\n",
    "# Determine Unique count of all cast\n",
    "counts = Counter(pos)\n",
    "positive_words_df = pd.DataFrame.from_dict(counts, orient='index').reset_index()\n",
    "positive_words_df.columns = ['Positive_Words', 'Count']\n",
    "positive_words_df.sort_values(by='Count', ascending=False, inplace=True)\n",
    "positive_words_df"
   ]
  },
  {
   "cell_type": "code",
   "execution_count": 51,
   "id": "3646be4c",
   "metadata": {},
   "outputs": [
    {
     "data": {
      "text/html": [
       "<pre>✔️ 78 ms (2022-08-11T23:10:40/2022-08-11T23:10:40)</pre>"
      ],
      "text/plain": [
       "<IPython.core.display.HTML object>"
      ]
     },
     "metadata": {},
     "output_type": "display_data"
    }
   ],
   "source": [
    "# saving positive words dataframe to a csv file\n",
    "positive_words_df.to_csv('Ren_Positive_Words.csv')"
   ]
  },
  {
   "cell_type": "code",
   "execution_count": 52,
   "id": "1bcd6f5f",
   "metadata": {},
   "outputs": [
    {
     "data": {
      "text/html": [
       "<pre>✔️ 47 ms (2022-08-11T23:10:40/2022-08-11T23:10:40)</pre>"
      ],
      "text/plain": [
       "<IPython.core.display.HTML object>"
      ]
     },
     "metadata": {},
     "output_type": "display_data"
    }
   ],
   "source": [
    "import string"
   ]
  },
  {
   "cell_type": "code",
   "execution_count": 53,
   "id": "70f07adb",
   "metadata": {},
   "outputs": [
    {
     "data": {
      "text/html": [
       "<pre>✔️ 719 ms (2022-08-11T23:10:40/2022-08-11T23:10:41)</pre>"
      ],
      "text/plain": [
       "<IPython.core.display.HTML object>"
      ]
     },
     "metadata": {},
     "output_type": "display_data"
    }
   ],
   "source": [
    "# Defining my NLTK stop words and my user-defined stop words\n",
    "stop_words = list(stopwords.words('english'))\n",
    "user_stop_words = [\"i\", \"i'm\", \"me\", \"my\", \"myself\", \"we\", \"our\", \"ours\", \"ourselves\", \"you\", \"your\", \"yours\", \"yourself\", \n",
    "                   \"yourselves\", \"he\", \"him\", \"his\", \"himself\", \"she\", \"her\", \"hers\", \"herself\", \"it\", \"its\", \"itself\",\n",
    "                   \"they\", \"them\", \"their\", \"theirs\", \"themselves\", \"what\", \"which\", \"who\", \"whom\", \"this\", \"that\", \n",
    "                   \"these\", \"those\", \"am\", \"is\", \"are\", \"was\", \"were\", \"be\", \"been\", \"being\", \"have\", \"has\", \"had\", \n",
    "                   \"having\", \"do\", \"does\", \"did\", \"doing\", \"a\", \"an\", \"the\", \"and\", \"but\", \"i'll\",\"we'll\",\"they'll\",\"you'll\",\"she'll\",\"he'll\",\"'ll\",\"n't\",\n",
    "                   \"'s\",'anyone','today','yesterday','day', 'already', 'year', 'many', 'much', 'amp', 'next', 'cant', 'wont', 'hadnt','havent', 'hasnt', \n",
    "                   'isnt', 'shouldnt', \"didn't\", \"couldn't\", 'wasnt', 'werent','mustnt', \n",
    "                   'been…','aht', 've', 'next',\"all\", \"any\", \"both\", \"each\", 'by',\n",
    "                  'year',]\n",
    "\n",
    "# The list below are common words which will not be relevant in our analysis.\n",
    "common_words = ['renaissance', 'beyonce', 'bey', 'rennaissance', 'album', \"beyonce's\", \"beehive\", \"transitions\"]\n",
    "alphabets = list(string.ascii_lowercase)\n",
    "stop_words = stop_words + user_stop_words + alphabets + common_words + renaissance_tracks"
   ]
  },
  {
   "cell_type": "code",
   "execution_count": 54,
   "id": "7209eb36",
   "metadata": {},
   "outputs": [
    {
     "data": {
      "text/html": [
       "<pre>✔️ 16 ms (2022-08-11T23:10:41/2022-08-11T23:10:41)</pre>"
      ],
      "text/plain": [
       "<IPython.core.display.HTML object>"
      ]
     },
     "metadata": {},
     "output_type": "display_data"
    }
   ],
   "source": [
    "emojis = list(UNICODE_EMOJI.keys())"
   ]
  },
  {
   "cell_type": "code",
   "execution_count": 55,
   "id": "9938907f",
   "metadata": {},
   "outputs": [
    {
     "data": {
      "text/html": [
       "<pre>✔️ 0 ns (2022-08-11T23:10:41/2022-08-11T23:10:41)</pre>"
      ],
      "text/plain": [
       "<IPython.core.display.HTML object>"
      ]
     },
     "metadata": {},
     "output_type": "display_data"
    }
   ],
   "source": [
    "# preProcess tweet for sentiment analysis\n",
    "def preprocessTweets(tweet):\n",
    "    tweet = tweet.lower()\n",
    "    # Cleaning and removing URL’s\n",
    "    tweet = re.sub(r\"http\\S+|www\\S+|https\\S+\", '', tweet, flags = re.MULTILINE)\n",
    "    # Cleaning and removing repeating characters\n",
    "    tweet = re.sub(r'\\@\\w+|\\#\\w+|\\d+', '',  tweet)\n",
    "    # Cleaning and removing the above stop words list from the tweet text\n",
    "    tweet_tokens = word_tokenize(tweet)  \n",
    "    filtered_words = [w for w in tweet_tokens if w not in stop_words]\n",
    "    filtered_words = [w for w in filtered_words if w not in emojis]\n",
    "    # Cleaning and removing punctuations\n",
    "    unpunctuated_words = [w for w in filtered_words if w not in string.punctuation]\n",
    "    lemmatizer = WordNetLemmatizer() \n",
    "    lemma_words = [lemmatizer.lemmatize(w) for w in unpunctuated_words]\n",
    "    return \" \".join(lemma_words)"
   ]
  },
  {
   "cell_type": "code",
   "execution_count": 56,
   "id": "3883e655",
   "metadata": {},
   "outputs": [
    {
     "data": {
      "text/html": [
       "<pre>✔️ 3 min 22 s (2022-08-11T23:10:42/2022-08-11T23:14:04)</pre>"
      ],
      "text/plain": [
       "<IPython.core.display.HTML object>"
      ]
     },
     "metadata": {},
     "output_type": "display_data"
    },
    {
     "data": {
      "text/html": [
       "<div>\n",
       "<style scoped>\n",
       "    .dataframe tbody tr th:only-of-type {\n",
       "        vertical-align: middle;\n",
       "    }\n",
       "\n",
       "    .dataframe tbody tr th {\n",
       "        vertical-align: top;\n",
       "    }\n",
       "\n",
       "    .dataframe thead th {\n",
       "        text-align: right;\n",
       "    }\n",
       "</style>\n",
       "<table border=\"1\" class=\"dataframe\">\n",
       "  <thead>\n",
       "    <tr style=\"text-align: right;\">\n",
       "      <th></th>\n",
       "      <th>id</th>\n",
       "      <th>username</th>\n",
       "      <th>time_of_tweet</th>\n",
       "      <th>tweet</th>\n",
       "      <th>location</th>\n",
       "      <th>retweets</th>\n",
       "      <th>likes</th>\n",
       "      <th>followers</th>\n",
       "      <th>following</th>\n",
       "      <th>verified</th>\n",
       "      <th>tweet_source</th>\n",
       "      <th>hashtags</th>\n",
       "      <th>tweet_lowercase</th>\n",
       "      <th>tweet_track</th>\n",
       "      <th>track</th>\n",
       "      <th>tweet_positive_words</th>\n",
       "      <th>positive_words</th>\n",
       "      <th>Processed_Tweets</th>\n",
       "    </tr>\n",
       "  </thead>\n",
       "  <tbody>\n",
       "    <tr>\n",
       "      <th>0</th>\n",
       "      <td>1552881884836859905</td>\n",
       "      <td>_Chrisss7</td>\n",
       "      <td>2022-07-29 05:01:07+00:00</td>\n",
       "      <td>Cozy is so cunt 😭🔥 #RENAISSANCE</td>\n",
       "      <td>904</td>\n",
       "      <td>0</td>\n",
       "      <td>0</td>\n",
       "      <td>396</td>\n",
       "      <td>391</td>\n",
       "      <td>False</td>\n",
       "      <td>Twitter for iPhone</td>\n",
       "      <td>#renaissance</td>\n",
       "      <td>cozy is so cunt 😭🔥 #renaissance</td>\n",
       "      <td>cozy is so cunt 😭🔥 #renaissance</td>\n",
       "      <td>cozy</td>\n",
       "      <td>cozy is so cunt 😭🔥 #renaissance</td>\n",
       "      <td></td>\n",
       "      <td>cunt 😭🔥</td>\n",
       "    </tr>\n",
       "    <tr>\n",
       "      <th>1</th>\n",
       "      <td>1552881884782370817</td>\n",
       "      <td>anseldeangelo</td>\n",
       "      <td>2022-07-29 05:01:07+00:00</td>\n",
       "      <td>Listening to #RENAISSANCE high was one of the ...</td>\n",
       "      <td>Florida, USA</td>\n",
       "      <td>0</td>\n",
       "      <td>0</td>\n",
       "      <td>3101</td>\n",
       "      <td>728</td>\n",
       "      <td>False</td>\n",
       "      <td>Twitter for iPhone</td>\n",
       "      <td>#renaissance</td>\n",
       "      <td>listening to #renaissance high was one of the ...</td>\n",
       "      <td>listening to #renaissance high was one of the ...</td>\n",
       "      <td></td>\n",
       "      <td>listening to #renaissance high was one of the ...</td>\n",
       "      <td></td>\n",
       "      <td>listening high one best decision ’ ever made</td>\n",
       "    </tr>\n",
       "    <tr>\n",
       "      <th>2</th>\n",
       "      <td>1552881883389861889</td>\n",
       "      <td>juhdayyy</td>\n",
       "      <td>2022-07-29 05:01:06+00:00</td>\n",
       "      <td>i got 50-11 captions ready to go 🤭 #RENAISSANCE</td>\n",
       "      <td>757</td>\n",
       "      <td>0</td>\n",
       "      <td>0</td>\n",
       "      <td>639</td>\n",
       "      <td>584</td>\n",
       "      <td>False</td>\n",
       "      <td>Twitter for iPhone</td>\n",
       "      <td>#renaissance</td>\n",
       "      <td>i got 50-11 captions ready to go 🤭 #renaissance</td>\n",
       "      <td>i got 50-11 captions ready to go 🤭 #renaissance</td>\n",
       "      <td></td>\n",
       "      <td>i got 50-11 captions ready to go 🤭 #renaissance</td>\n",
       "      <td></td>\n",
       "      <td>got caption ready go</td>\n",
       "    </tr>\n",
       "    <tr>\n",
       "      <th>3</th>\n",
       "      <td>1552881883217895424</td>\n",
       "      <td>sir_marcell</td>\n",
       "      <td>2022-07-29 05:01:06+00:00</td>\n",
       "      <td>Calling all singers!!!! The scales at the end ...</td>\n",
       "      <td>Atlanta, GA</td>\n",
       "      <td>0</td>\n",
       "      <td>1</td>\n",
       "      <td>773</td>\n",
       "      <td>460</td>\n",
       "      <td>False</td>\n",
       "      <td>Twitter for iPhone</td>\n",
       "      <td>#renaissance</td>\n",
       "      <td>calling all singers!!!! the scales at the end ...</td>\n",
       "      <td>calling all singers!!!! the scales at the end ...</td>\n",
       "      <td>plasticoffthesofa</td>\n",
       "      <td>calling all singers!!!! the scales at the end ...</td>\n",
       "      <td></td>\n",
       "      <td>calling singer scale end plastic sofa god</td>\n",
       "    </tr>\n",
       "    <tr>\n",
       "      <th>4</th>\n",
       "      <td>1552881883205099520</td>\n",
       "      <td>JadedTyson</td>\n",
       "      <td>2022-07-29 05:01:06+00:00</td>\n",
       "      <td>PURE/HONEY unlocked the inner voguer that resi...</td>\n",
       "      <td>LA   He/They</td>\n",
       "      <td>0</td>\n",
       "      <td>2</td>\n",
       "      <td>252</td>\n",
       "      <td>232</td>\n",
       "      <td>False</td>\n",
       "      <td>Twitter for iPhone</td>\n",
       "      <td>#renaissance</td>\n",
       "      <td>pure/honey unlocked the inner voguer that resi...</td>\n",
       "      <td>pure/honey unlocked the inner voguer that resi...</td>\n",
       "      <td>pure/honey</td>\n",
       "      <td>pure/honey unlocked the inner voguer that resi...</td>\n",
       "      <td></td>\n",
       "      <td>unlocked inner voguer resides within ’ free bitch</td>\n",
       "    </tr>\n",
       "  </tbody>\n",
       "</table>\n",
       "</div>"
      ],
      "text/plain": [
       "                    id       username             time_of_tweet  \\\n",
       "0  1552881884836859905      _Chrisss7 2022-07-29 05:01:07+00:00   \n",
       "1  1552881884782370817  anseldeangelo 2022-07-29 05:01:07+00:00   \n",
       "2  1552881883389861889       juhdayyy 2022-07-29 05:01:06+00:00   \n",
       "3  1552881883217895424    sir_marcell 2022-07-29 05:01:06+00:00   \n",
       "4  1552881883205099520     JadedTyson 2022-07-29 05:01:06+00:00   \n",
       "\n",
       "                                               tweet      location  retweets  \\\n",
       "0                    Cozy is so cunt 😭🔥 #RENAISSANCE           904         0   \n",
       "1  Listening to #RENAISSANCE high was one of the ...  Florida, USA         0   \n",
       "2    i got 50-11 captions ready to go 🤭 #RENAISSANCE          757          0   \n",
       "3  Calling all singers!!!! The scales at the end ...   Atlanta, GA         0   \n",
       "4  PURE/HONEY unlocked the inner voguer that resi...  LA   He/They         0   \n",
       "\n",
       "   likes  followers  following  verified        tweet_source      hashtags  \\\n",
       "0      0        396        391     False  Twitter for iPhone  #renaissance   \n",
       "1      0       3101        728     False  Twitter for iPhone  #renaissance   \n",
       "2      0        639        584     False  Twitter for iPhone  #renaissance   \n",
       "3      1        773        460     False  Twitter for iPhone  #renaissance   \n",
       "4      2        252        232     False  Twitter for iPhone  #renaissance   \n",
       "\n",
       "                                     tweet_lowercase  \\\n",
       "0                    cozy is so cunt 😭🔥 #renaissance   \n",
       "1  listening to #renaissance high was one of the ...   \n",
       "2    i got 50-11 captions ready to go 🤭 #renaissance   \n",
       "3  calling all singers!!!! the scales at the end ...   \n",
       "4  pure/honey unlocked the inner voguer that resi...   \n",
       "\n",
       "                                         tweet_track              track  \\\n",
       "0                    cozy is so cunt 😭🔥 #renaissance               cozy   \n",
       "1  listening to #renaissance high was one of the ...                      \n",
       "2    i got 50-11 captions ready to go 🤭 #renaissance                      \n",
       "3  calling all singers!!!! the scales at the end ...  plasticoffthesofa   \n",
       "4  pure/honey unlocked the inner voguer that resi...         pure/honey   \n",
       "\n",
       "                                tweet_positive_words positive_words  \\\n",
       "0                    cozy is so cunt 😭🔥 #renaissance                  \n",
       "1  listening to #renaissance high was one of the ...                  \n",
       "2    i got 50-11 captions ready to go 🤭 #renaissance                  \n",
       "3  calling all singers!!!! the scales at the end ...                  \n",
       "4  pure/honey unlocked the inner voguer that resi...                  \n",
       "\n",
       "                                    Processed_Tweets  \n",
       "0                                            cunt 😭🔥  \n",
       "1       listening high one best decision ’ ever made  \n",
       "2                               got caption ready go  \n",
       "3          calling singer scale end plastic sofa god  \n",
       "4  unlocked inner voguer resides within ’ free bitch  "
      ]
     },
     "execution_count": 56,
     "metadata": {},
     "output_type": "execute_result"
    }
   ],
   "source": [
    "# Generate a new column called 'Processed Tweets' by applying preprocessed tweets function to the 'Tweet' column.\n",
    "tweets_df['Processed_Tweets'] = tweets_df['tweet'].apply(preprocessTweets)\n",
    "tweets_df.head()"
   ]
  },
  {
   "cell_type": "code",
   "execution_count": 57,
   "id": "c4fe8fc4",
   "metadata": {},
   "outputs": [
    {
     "data": {
      "text/html": [
       "<pre>✔️ 78 ms (2022-08-11T23:14:05/2022-08-11T23:14:05)</pre>"
      ],
      "text/plain": [
       "<IPython.core.display.HTML object>"
      ]
     },
     "metadata": {},
     "output_type": "display_data"
    }
   ],
   "source": [
    "# Extract all tweets into one long string with each word separate with a \"space\"\n",
    "tweets_long_string = tweets_df['Processed_Tweets'].tolist()\n",
    "tweets_long_string = \" \".join(tweets_long_string)"
   ]
  },
  {
   "cell_type": "markdown",
   "id": "96287505",
   "metadata": {},
   "source": [
    "## 6. Sentiment Analysis"
   ]
  },
  {
   "cell_type": "markdown",
   "id": "cce74ce4",
   "metadata": {},
   "source": [
    "In this section, I want to show the sentiments in relation to the Renaissance Album.\n",
    "I'm going to employ the use of Text Blob"
   ]
  },
  {
   "cell_type": "code",
   "execution_count": 58,
   "id": "70551b9e",
   "metadata": {},
   "outputs": [
    {
     "data": {
      "text/html": [
       "<pre>✔️ 391 ms (2022-08-11T23:14:05/2022-08-11T23:14:06)</pre>"
      ],
      "text/plain": [
       "<IPython.core.display.HTML object>"
      ]
     },
     "metadata": {},
     "output_type": "display_data"
    }
   ],
   "source": [
    "import textblob\n",
    "from textblob import TextBlob"
   ]
  },
  {
   "cell_type": "code",
   "execution_count": 59,
   "id": "768a8bba",
   "metadata": {},
   "outputs": [
    {
     "data": {
      "text/html": [
       "<pre>✔️ 62 ms (2022-08-11T23:14:06/2022-08-11T23:14:06)</pre>"
      ],
      "text/plain": [
       "<IPython.core.display.HTML object>"
      ]
     },
     "metadata": {},
     "output_type": "display_data"
    }
   ],
   "source": [
    "# Define function to obtain Polarity Score\n",
    "def getPolarity(tweet):\n",
    "    return TextBlob(tweet).sentiment.polarity\n",
    "\n",
    "# Define function to obtain Sentiment category\n",
    "def getSentimentTextBlob(polarity):\n",
    "    if polarity < 0:\n",
    "        return \"Negative\"\n",
    "    else:\n",
    "        return \"Positive\""
   ]
  },
  {
   "cell_type": "code",
   "execution_count": 60,
   "id": "20782354",
   "metadata": {},
   "outputs": [
    {
     "data": {
      "text/html": [
       "<pre>✔️ 47 s (2022-08-11T23:14:07/2022-08-11T23:14:54)</pre>"
      ],
      "text/plain": [
       "<IPython.core.display.HTML object>"
      ]
     },
     "metadata": {},
     "output_type": "display_data"
    }
   ],
   "source": [
    "# Apply the functions to respective columns\n",
    "tweets_df['Polarity']=tweets_df['Processed_Tweets'].apply(getPolarity)\n",
    "tweets_df['Sentiment']=tweets_df['Polarity'].apply(getSentimentTextBlob)"
   ]
  },
  {
   "cell_type": "code",
   "execution_count": 61,
   "id": "00aa00f4",
   "metadata": {},
   "outputs": [
    {
     "data": {
      "text/html": [
       "<pre>✔️ 94 ms (2022-08-11T23:14:57/2022-08-11T23:14:57)</pre>"
      ],
      "text/plain": [
       "<IPython.core.display.HTML object>"
      ]
     },
     "metadata": {},
     "output_type": "display_data"
    },
    {
     "data": {
      "text/html": [
       "<div>\n",
       "<style scoped>\n",
       "    .dataframe tbody tr th:only-of-type {\n",
       "        vertical-align: middle;\n",
       "    }\n",
       "\n",
       "    .dataframe tbody tr th {\n",
       "        vertical-align: top;\n",
       "    }\n",
       "\n",
       "    .dataframe thead th {\n",
       "        text-align: right;\n",
       "    }\n",
       "</style>\n",
       "<table border=\"1\" class=\"dataframe\">\n",
       "  <thead>\n",
       "    <tr style=\"text-align: right;\">\n",
       "      <th></th>\n",
       "      <th>id</th>\n",
       "      <th>username</th>\n",
       "      <th>time_of_tweet</th>\n",
       "      <th>tweet</th>\n",
       "      <th>location</th>\n",
       "      <th>retweets</th>\n",
       "      <th>likes</th>\n",
       "      <th>followers</th>\n",
       "      <th>following</th>\n",
       "      <th>verified</th>\n",
       "      <th>tweet_source</th>\n",
       "      <th>hashtags</th>\n",
       "      <th>tweet_lowercase</th>\n",
       "      <th>tweet_track</th>\n",
       "      <th>track</th>\n",
       "      <th>tweet_positive_words</th>\n",
       "      <th>positive_words</th>\n",
       "      <th>Processed_Tweets</th>\n",
       "      <th>Polarity</th>\n",
       "      <th>Sentiment</th>\n",
       "    </tr>\n",
       "  </thead>\n",
       "  <tbody>\n",
       "    <tr>\n",
       "      <th>0</th>\n",
       "      <td>1552881884836859905</td>\n",
       "      <td>_Chrisss7</td>\n",
       "      <td>2022-07-29 05:01:07+00:00</td>\n",
       "      <td>Cozy is so cunt 😭🔥 #RENAISSANCE</td>\n",
       "      <td>904</td>\n",
       "      <td>0</td>\n",
       "      <td>0</td>\n",
       "      <td>396</td>\n",
       "      <td>391</td>\n",
       "      <td>False</td>\n",
       "      <td>Twitter for iPhone</td>\n",
       "      <td>#renaissance</td>\n",
       "      <td>cozy is so cunt 😭🔥 #renaissance</td>\n",
       "      <td>cozy is so cunt 😭🔥 #renaissance</td>\n",
       "      <td>cozy</td>\n",
       "      <td>cozy is so cunt 😭🔥 #renaissance</td>\n",
       "      <td></td>\n",
       "      <td>cunt 😭🔥</td>\n",
       "      <td>0.00</td>\n",
       "      <td>Positive</td>\n",
       "    </tr>\n",
       "    <tr>\n",
       "      <th>1</th>\n",
       "      <td>1552881884782370817</td>\n",
       "      <td>anseldeangelo</td>\n",
       "      <td>2022-07-29 05:01:07+00:00</td>\n",
       "      <td>Listening to #RENAISSANCE high was one of the ...</td>\n",
       "      <td>Florida, USA</td>\n",
       "      <td>0</td>\n",
       "      <td>0</td>\n",
       "      <td>3101</td>\n",
       "      <td>728</td>\n",
       "      <td>False</td>\n",
       "      <td>Twitter for iPhone</td>\n",
       "      <td>#renaissance</td>\n",
       "      <td>listening to #renaissance high was one of the ...</td>\n",
       "      <td>listening to #renaissance high was one of the ...</td>\n",
       "      <td></td>\n",
       "      <td>listening to #renaissance high was one of the ...</td>\n",
       "      <td></td>\n",
       "      <td>listening high one best decision ’ ever made</td>\n",
       "      <td>0.58</td>\n",
       "      <td>Positive</td>\n",
       "    </tr>\n",
       "    <tr>\n",
       "      <th>2</th>\n",
       "      <td>1552881883389861889</td>\n",
       "      <td>juhdayyy</td>\n",
       "      <td>2022-07-29 05:01:06+00:00</td>\n",
       "      <td>i got 50-11 captions ready to go 🤭 #RENAISSANCE</td>\n",
       "      <td>757</td>\n",
       "      <td>0</td>\n",
       "      <td>0</td>\n",
       "      <td>639</td>\n",
       "      <td>584</td>\n",
       "      <td>False</td>\n",
       "      <td>Twitter for iPhone</td>\n",
       "      <td>#renaissance</td>\n",
       "      <td>i got 50-11 captions ready to go 🤭 #renaissance</td>\n",
       "      <td>i got 50-11 captions ready to go 🤭 #renaissance</td>\n",
       "      <td></td>\n",
       "      <td>i got 50-11 captions ready to go 🤭 #renaissance</td>\n",
       "      <td></td>\n",
       "      <td>got caption ready go</td>\n",
       "      <td>0.20</td>\n",
       "      <td>Positive</td>\n",
       "    </tr>\n",
       "    <tr>\n",
       "      <th>3</th>\n",
       "      <td>1552881883217895424</td>\n",
       "      <td>sir_marcell</td>\n",
       "      <td>2022-07-29 05:01:06+00:00</td>\n",
       "      <td>Calling all singers!!!! The scales at the end ...</td>\n",
       "      <td>Atlanta, GA</td>\n",
       "      <td>0</td>\n",
       "      <td>1</td>\n",
       "      <td>773</td>\n",
       "      <td>460</td>\n",
       "      <td>False</td>\n",
       "      <td>Twitter for iPhone</td>\n",
       "      <td>#renaissance</td>\n",
       "      <td>calling all singers!!!! the scales at the end ...</td>\n",
       "      <td>calling all singers!!!! the scales at the end ...</td>\n",
       "      <td>plasticoffthesofa</td>\n",
       "      <td>calling all singers!!!! the scales at the end ...</td>\n",
       "      <td></td>\n",
       "      <td>calling singer scale end plastic sofa god</td>\n",
       "      <td>0.00</td>\n",
       "      <td>Positive</td>\n",
       "    </tr>\n",
       "    <tr>\n",
       "      <th>4</th>\n",
       "      <td>1552881883205099520</td>\n",
       "      <td>JadedTyson</td>\n",
       "      <td>2022-07-29 05:01:06+00:00</td>\n",
       "      <td>PURE/HONEY unlocked the inner voguer that resi...</td>\n",
       "      <td>LA   He/They</td>\n",
       "      <td>0</td>\n",
       "      <td>2</td>\n",
       "      <td>252</td>\n",
       "      <td>232</td>\n",
       "      <td>False</td>\n",
       "      <td>Twitter for iPhone</td>\n",
       "      <td>#renaissance</td>\n",
       "      <td>pure/honey unlocked the inner voguer that resi...</td>\n",
       "      <td>pure/honey unlocked the inner voguer that resi...</td>\n",
       "      <td>pure/honey</td>\n",
       "      <td>pure/honey unlocked the inner voguer that resi...</td>\n",
       "      <td></td>\n",
       "      <td>unlocked inner voguer resides within ’ free bitch</td>\n",
       "      <td>0.20</td>\n",
       "      <td>Positive</td>\n",
       "    </tr>\n",
       "  </tbody>\n",
       "</table>\n",
       "</div>"
      ],
      "text/plain": [
       "                    id       username             time_of_tweet  \\\n",
       "0  1552881884836859905      _Chrisss7 2022-07-29 05:01:07+00:00   \n",
       "1  1552881884782370817  anseldeangelo 2022-07-29 05:01:07+00:00   \n",
       "2  1552881883389861889       juhdayyy 2022-07-29 05:01:06+00:00   \n",
       "3  1552881883217895424    sir_marcell 2022-07-29 05:01:06+00:00   \n",
       "4  1552881883205099520     JadedTyson 2022-07-29 05:01:06+00:00   \n",
       "\n",
       "                                               tweet      location  retweets  \\\n",
       "0                    Cozy is so cunt 😭🔥 #RENAISSANCE           904         0   \n",
       "1  Listening to #RENAISSANCE high was one of the ...  Florida, USA         0   \n",
       "2    i got 50-11 captions ready to go 🤭 #RENAISSANCE          757          0   \n",
       "3  Calling all singers!!!! The scales at the end ...   Atlanta, GA         0   \n",
       "4  PURE/HONEY unlocked the inner voguer that resi...  LA   He/They         0   \n",
       "\n",
       "   likes  followers  following  verified        tweet_source      hashtags  \\\n",
       "0      0        396        391     False  Twitter for iPhone  #renaissance   \n",
       "1      0       3101        728     False  Twitter for iPhone  #renaissance   \n",
       "2      0        639        584     False  Twitter for iPhone  #renaissance   \n",
       "3      1        773        460     False  Twitter for iPhone  #renaissance   \n",
       "4      2        252        232     False  Twitter for iPhone  #renaissance   \n",
       "\n",
       "                                     tweet_lowercase  \\\n",
       "0                    cozy is so cunt 😭🔥 #renaissance   \n",
       "1  listening to #renaissance high was one of the ...   \n",
       "2    i got 50-11 captions ready to go 🤭 #renaissance   \n",
       "3  calling all singers!!!! the scales at the end ...   \n",
       "4  pure/honey unlocked the inner voguer that resi...   \n",
       "\n",
       "                                         tweet_track              track  \\\n",
       "0                    cozy is so cunt 😭🔥 #renaissance               cozy   \n",
       "1  listening to #renaissance high was one of the ...                      \n",
       "2    i got 50-11 captions ready to go 🤭 #renaissance                      \n",
       "3  calling all singers!!!! the scales at the end ...  plasticoffthesofa   \n",
       "4  pure/honey unlocked the inner voguer that resi...         pure/honey   \n",
       "\n",
       "                                tweet_positive_words positive_words  \\\n",
       "0                    cozy is so cunt 😭🔥 #renaissance                  \n",
       "1  listening to #renaissance high was one of the ...                  \n",
       "2    i got 50-11 captions ready to go 🤭 #renaissance                  \n",
       "3  calling all singers!!!! the scales at the end ...                  \n",
       "4  pure/honey unlocked the inner voguer that resi...                  \n",
       "\n",
       "                                    Processed_Tweets  Polarity Sentiment  \n",
       "0                                            cunt 😭🔥      0.00  Positive  \n",
       "1       listening high one best decision ’ ever made      0.58  Positive  \n",
       "2                               got caption ready go      0.20  Positive  \n",
       "3          calling singer scale end plastic sofa god      0.00  Positive  \n",
       "4  unlocked inner voguer resides within ’ free bitch      0.20  Positive  "
      ]
     },
     "execution_count": 61,
     "metadata": {},
     "output_type": "execute_result"
    }
   ],
   "source": [
    "tweets_df.head()"
   ]
  },
  {
   "cell_type": "code",
   "execution_count": 62,
   "id": "d581867d",
   "metadata": {},
   "outputs": [
    {
     "data": {
      "text/html": [
       "<pre>✔️ 125 ms (2022-08-11T23:14:58/2022-08-11T23:14:58)</pre>"
      ],
      "text/plain": [
       "<IPython.core.display.HTML object>"
      ]
     },
     "metadata": {},
     "output_type": "display_data"
    },
    {
     "data": {
      "text/plain": [
       "Positive    127651\n",
       "Negative     19879\n",
       "Name: Sentiment, dtype: int64"
      ]
     },
     "execution_count": 62,
     "metadata": {},
     "output_type": "execute_result"
    }
   ],
   "source": [
    "# get unique values and count in sentiment column\n",
    "tweets_df['Sentiment'].value_counts()"
   ]
  },
  {
   "cell_type": "markdown",
   "id": "6b7f6465",
   "metadata": {},
   "source": [
    "## 7. Explanatory Analysis/ Data Visualization"
   ]
  },
  {
   "cell_type": "code",
   "execution_count": 65,
   "id": "383a636a",
   "metadata": {},
   "outputs": [
    {
     "data": {
      "text/html": [
       "<pre>✔️ 0 ns (2022-08-11T23:15:13/2022-08-11T23:15:13)</pre>"
      ],
      "text/plain": [
       "<IPython.core.display.HTML object>"
      ]
     },
     "metadata": {},
     "output_type": "display_data"
    }
   ],
   "source": [
    "# for opening, manipulating, and saving image file\n",
    "from PIL import Image"
   ]
  },
  {
   "cell_type": "code",
   "execution_count": 66,
   "id": "d728126c",
   "metadata": {},
   "outputs": [
    {
     "data": {
      "text/html": [
       "<pre>✔️ 2.22 s (2022-08-11T23:15:14/2022-08-11T23:15:16)</pre>"
      ],
      "text/plain": [
       "<IPython.core.display.HTML object>"
      ]
     },
     "metadata": {},
     "output_type": "display_data"
    },
    {
     "data": {
      "text/plain": [
       "Positive    127651\n",
       "Negative     19879\n",
       "Name: Sentiment, dtype: int64"
      ]
     },
     "execution_count": 66,
     "metadata": {},
     "output_type": "execute_result"
    }
   ],
   "source": [
    "data = tweets_df['Sentiment'].value_counts()\n",
    "data"
   ]
  },
  {
   "cell_type": "code",
   "execution_count": 85,
   "id": "f72729db",
   "metadata": {},
   "outputs": [
    {
     "data": {
      "text/html": [
       "<pre>✔️ 2.17 s (2022-08-11T23:46:06/2022-08-11T23:46:08)</pre>"
      ],
      "text/plain": [
       "<IPython.core.display.HTML object>"
      ]
     },
     "metadata": {},
     "output_type": "display_data"
    },
    {
     "data": {
      "image/png": "[encoded data removed]",
      "text/plain": [
       "<Figure size 1080x720 with 1 Axes>"
      ]
     },
     "metadata": {},
     "output_type": "display_data"
    }
   ],
   "source": [
    "# Plotting a pie chart to show distribution of Sentiments\n",
    "plt.figure(figsize=[15,10], facecolor='none')\n",
    "plt.pie(data, labels=['Positive', 'Negative'], colors=['#FEE715', '#666666'], startangle=90, explode= [0.05, 0.05], autopct='%1.1f%%');\n",
    "plt.title('Twitter Users Sentiments');"
   ]
  },
  {
   "cell_type": "code",
   "execution_count": 86,
   "id": "6dd7be60",
   "metadata": {},
   "outputs": [
    {
     "data": {
      "text/html": [
       "<pre>✔️ 156 ms (2022-08-11T23:47:16/2022-08-11T23:47:16)</pre>"
      ],
      "text/plain": [
       "<IPython.core.display.HTML object>"
      ]
     },
     "metadata": {},
     "output_type": "display_data"
    },
    {
     "data": {
      "text/plain": [
       "<Figure size 432x288 with 0 Axes>"
      ]
     },
     "metadata": {},
     "output_type": "display_data"
    }
   ],
   "source": [
    "# Save to dataframe\n",
    "plt.savefig(\"Sentiments.png\", format=\"png\")"
   ]
  },
  {
   "cell_type": "markdown",
   "id": "f8c7f252",
   "metadata": {},
   "source": [
    "**Next, Plotting Tracks to show rank**"
   ]
  },
  {
   "cell_type": "code",
   "execution_count": 69,
   "id": "4d00af80",
   "metadata": {},
   "outputs": [
    {
     "data": {
      "text/html": [
       "<pre>✔️ 15 ms (2022-08-11T23:16:59/2022-08-11T23:16:59)</pre>"
      ],
      "text/plain": [
       "<IPython.core.display.HTML object>"
      ]
     },
     "metadata": {},
     "output_type": "display_data"
    }
   ],
   "source": [
    "track_df_sort = track_df.sort_values('Count', ascending='True')"
   ]
  },
  {
   "cell_type": "code",
   "execution_count": 82,
   "id": "943256c6",
   "metadata": {},
   "outputs": [
    {
     "data": {
      "text/html": [
       "<pre>✔️ 266 ms (2022-08-11T23:44:36/2022-08-11T23:44:36)</pre>"
      ],
      "text/plain": [
       "<IPython.core.display.HTML object>"
      ]
     },
     "metadata": {},
     "output_type": "display_data"
    }
   ],
   "source": [
    "plt.style.use(\"seaborn-whitegrid\")"
   ]
  },
  {
   "cell_type": "code",
   "execution_count": 83,
   "id": "d3b77af7",
   "metadata": {},
   "outputs": [
    {
     "data": {
      "text/html": [
       "<pre>✔️ 2.28 s (2022-08-11T23:44:44/2022-08-11T23:44:47)</pre>"
      ],
      "text/plain": [
       "<IPython.core.display.HTML object>"
      ]
     },
     "metadata": {},
     "output_type": "display_data"
    },
    {
     "data": {
      "image/png": "[encoded data removed]",
      "text/plain": [
       "<Figure size 720x1080 with 1 Axes>"
      ]
     },
     "metadata": {},
     "output_type": "display_data"
    }
   ],
   "source": [
    "ax = track_df_sort.plot.barh(x='Ren_track', y='Count', figsize=(10,15), legend=None, width=0.6, color=['#666666', '#666666','#666666','#666666','#666666','#666666','#666666','#666666','#666666','#666666','#666666','#666666','#666666','#666666', '#666666', '#FEE715'])\n",
    "plt.title('Ranking Of Renaissance Tracks');\n",
    "plt.grid(False)\n",
    "plt.ylabel('Tracks')\n",
    "plt.xlabel('Count')\n",
    "ax.set_facecolor('white')\n",
    "\n",
    "plt.rcParams['axes.facecolor'] = 'white'\n",
    "\n",
    "\n",
    "for y, x in enumerate(track_df_sort.Count):\n",
    "    ax.annotate(\"{:,}\".format(x), xy=(x, y))\n",
    "    ax.set_xlim(0, track_df_sort.Count.max()*1.2)\n",
    "\n",
    "plt.show()"
   ]
  },
  {
   "cell_type": "code",
   "execution_count": 84,
   "id": "a9adc5b7",
   "metadata": {},
   "outputs": [
    {
     "data": {
      "text/html": [
       "<pre>✔️ 110 ms (2022-08-11T23:45:50/2022-08-11T23:45:50)</pre>"
      ],
      "text/plain": [
       "<IPython.core.display.HTML object>"
      ]
     },
     "metadata": {},
     "output_type": "display_data"
    },
    {
     "data": {
      "text/plain": [
       "<Figure size 432x288 with 0 Axes>"
      ]
     },
     "metadata": {},
     "output_type": "display_data"
    }
   ],
   "source": [
    "# Save to dataframe\n",
    "plt.savefig(\"Tracks.png\", format=\"png\");"
   ]
  },
  {
   "cell_type": "markdown",
   "id": "898495dd",
   "metadata": {},
   "source": [
    "#### The most Popular tracks is Church Girl, followed by Alien Superstar (a favorite of mine).\n",
    "#### The least Popular track is I'm That Girl\n",
    "\n",
    "<br>\n"
   ]
  },
  {
   "cell_type": "markdown",
   "id": "58553dc9",
   "metadata": {},
   "source": [
    "**Next, Generating WordClouds**"
   ]
  },
  {
   "cell_type": "code",
   "execution_count": 87,
   "id": "bd172923",
   "metadata": {},
   "outputs": [
    {
     "data": {
      "text/html": [
       "<pre>✔️ 141 ms (2022-08-11T23:47:44/2022-08-11T23:47:44)</pre>"
      ],
      "text/plain": [
       "<IPython.core.display.HTML object>"
      ]
     },
     "metadata": {},
     "output_type": "display_data"
    }
   ],
   "source": [
    "# Create function to generate the blue colour for the Word CLoud\n",
    "def yellow_color_func(word, font_size, position, orientation, random_state=None,**kwargs):\n",
    "    return \"hsl(54, 99%%, %d%%)\" % random.randint(50, 80)"
   ]
  },
  {
   "cell_type": "code",
   "execution_count": 88,
   "id": "e7865e1a",
   "metadata": {},
   "outputs": [
    {
     "data": {
      "text/html": [
       "<pre>✔️ 156 ms (2022-08-11T23:47:46/2022-08-11T23:47:46)</pre>"
      ],
      "text/plain": [
       "<IPython.core.display.HTML object>"
      ]
     },
     "metadata": {},
     "output_type": "display_data"
    }
   ],
   "source": [
    "import random"
   ]
  },
  {
   "cell_type": "code",
   "execution_count": 97,
   "id": "d25a586b",
   "metadata": {},
   "outputs": [
    {
     "data": {
      "text/html": [
       "<pre>✔️ 468 ms (2022-08-11T23:52:37/2022-08-11T23:52:37)</pre>"
      ],
      "text/plain": [
       "<IPython.core.display.HTML object>"
      ]
     },
     "metadata": {},
     "output_type": "display_data"
    },
    {
     "data": {
      "image/png": "[encoded data removed]",
      "text/plain": [
       "<Figure size 1080x720 with 1 Axes>"
      ]
     },
     "metadata": {
      "needs_background": "light"
     },
     "output_type": "display_data"
    }
   ],
   "source": [
    "# Import Horse Logo\n",
    "image = np.array(Image.open('RenaissanceHorse.png'))\n",
    "    \n",
    "# Instantiate the figure object\n",
    "plt.figure(figsize=[15,10], facecolor='none')\n",
    "\n",
    "\n",
    "plt.imshow(image, cmap=plt.cm.gray, interpolation='bilinear') # Display data as an image\n",
    "plt.axis('off') # Remove axis\n",
    "plt.show() # Display image"
   ]
  },
  {
   "cell_type": "code",
   "execution_count": 103,
   "id": "93b31aac",
   "metadata": {},
   "outputs": [
    {
     "data": {
      "text/html": [
       "<pre>✔️ 13.3 s (2022-08-11T23:56:33/2022-08-11T23:56:46)</pre>"
      ],
      "text/plain": [
       "<IPython.core.display.HTML object>"
      ]
     },
     "metadata": {},
     "output_type": "display_data"
    },
    {
     "data": {
      "image/png": "[encoded data removed]",
      "text/plain": [
       "<Figure size 1080x720 with 1 Axes>"
      ]
     },
     "metadata": {
      "needs_background": "light"
     },
     "output_type": "display_data"
    }
   ],
   "source": [
    "# Instantiate the Twitter word cloud object\n",
    "twitter_wc = WordCloud(background_color='#212121', mask=image)\n",
    "\n",
    "# generate the word cloud\n",
    "twitter_wc.generate(tweets_long_string)\n",
    "\n",
    "# display the word cloud\n",
    "plt.figure(figsize=[15,10], facecolor='none')\n",
    "\n",
    "\n",
    "plt.imshow(twitter_wc.recolor(color_func = yellow_color_func, random_state=3),\n",
    "           interpolation=\"bilinear\")\n",
    "plt.axis('off')\n",
    "plt.title('Word Cloud Representation of Tweets');\n",
    "plt.show()"
   ]
  },
  {
   "cell_type": "markdown",
   "id": "a5a9b4b7",
   "metadata": {},
   "source": [
    "#### As shown above, the most frequent word(s) is beyonce and church girl"
   ]
  },
  {
   "cell_type": "code",
   "execution_count": 104,
   "id": "8b493072",
   "metadata": {},
   "outputs": [
    {
     "data": {
      "text/html": [
       "<pre>✔️ 843 ms (2022-08-11T23:57:17/2022-08-11T23:57:18)</pre>"
      ],
      "text/plain": [
       "<IPython.core.display.HTML object>"
      ]
     },
     "metadata": {},
     "output_type": "display_data"
    },
    {
     "data": {
      "text/plain": [
       "<Figure size 432x288 with 0 Axes>"
      ]
     },
     "metadata": {},
     "output_type": "display_data"
    }
   ],
   "source": [
    "# Save to dataframe\n",
    "plt.savefig(\"RenaissanceWordCloud.png\", format=\"png\")"
   ]
  },
  {
   "cell_type": "markdown",
   "id": "a9cf3ca9",
   "metadata": {},
   "source": [
    "## Save the Dataframe to be exported to Microsoft Power BI to Create a Dashboard"
   ]
  },
  {
   "cell_type": "code",
   "execution_count": 95,
   "id": "39255543",
   "metadata": {},
   "outputs": [
    {
     "data": {
      "text/html": [
       "<pre>✔️ 46.7 s (2022-08-11T23:49:29/2022-08-11T23:50:16)</pre>"
      ],
      "text/plain": [
       "<IPython.core.display.HTML object>"
      ]
     },
     "metadata": {},
     "output_type": "display_data"
    }
   ],
   "source": [
    "tweets_df.to_csv(\"Renaissance_Final_File.csv\", index=False)"
   ]
  },
  {
   "cell_type": "markdown",
   "id": "276127e1",
   "metadata": {},
   "source": [
    "**Insert Power BI Dashboard below**"
   ]
  },
  {
   "cell_type": "code",
   "execution_count": 1,
   "id": "32975041",
   "metadata": {},
   "outputs": [
    {
     "data": {
      "text/html": [
       "\n",
       "        <iframe\n",
       "            width=\"836\"\n",
       "            height=\"800\"\n",
       "            src=\"https://app.powerbi.com/view?r=eyJrIjoiMjU4NTU5NmEtN2VlYy00NTQ0LWE1NzQtODQ2YTI2MjkwYzljIiwidCI6IjNkMDM5YWFlLWE5NGUtNGViMi1iNjVkLWQzYzFhMjU5MmU1YyJ9\"\n",
       "            frameborder=\"0\"\n",
       "            allowfullscreen\n",
       "            \n",
       "        ></iframe>\n",
       "        "
      ],
      "text/plain": [
       "<IPython.lib.display.IFrame at 0x231c0aea550>"
      ]
     },
     "execution_count": 1,
     "metadata": {},
     "output_type": "execute_result"
    }
   ],
   "source": [
    "from IPython.display import IFrame\n",
    "IFrame(src=\"https://app.powerbi.com/view?r=eyJrIjoiMjU4NTU5NmEtN2VlYy00NTQ0LWE1NzQtODQ2YTI2MjkwYzljIiwidCI6IjNkMDM5YWFlLWE5NGUtNGViMi1iNjVkLWQzYzFhMjU5MmU1YyJ9\", height=800, width=836)"
   ]
  },
  {
   "cell_type": "markdown",
   "id": "1979f450",
   "metadata": {},
   "source": [
    "## 8. Additional Comments"
   ]
  },
  {
   "cell_type": "markdown",
   "id": "92b2df65",
   "metadata": {},
   "source": [
    "To Read Further on my thought Process while creating this project; check out the links below."
   ]
  },
  {
   "cell_type": "markdown",
   "id": "ecda0979",
   "metadata": {},
   "source": [
    "[Link to Medium Article](https://medium.com/@Nonso_Analytics/beyonces-renaissance-album-a-twitter-sentiment-analysis-dec0e431337d) "
   ]
  },
  {
   "cell_type": "markdown",
   "id": "58c7969f",
   "metadata": {},
   "source": [
    "**Get to know me better**<br>\n",
    "[Link to LinkedIn](https://www.linkedin.com/in/chinonso-okonkwo)<br>\n",
    "[Link to Twitter](https://twitter.com/Nonso_Analytics)\n"
   ]
  }
 ],
 "metadata": {
  "kernelspec": {
   "display_name": "Python 3 (ipykernel)",
   "language": "python",
   "name": "python3"
  },
  "language_info": {
   "codemirror_mode": {
    "name": "ipython",
    "version": 3
   },
   "file_extension": ".py",
   "mimetype": "text/x-python",
   "name": "python",
   "nbconvert_exporter": "python",
   "pygments_lexer": "ipython3",
   "version": "3.9.7"
  }
 },
 "nbformat": 4,
 "nbformat_minor": 5
}
